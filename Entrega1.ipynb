{
 "cells": [
  {
   "cell_type": "markdown",
   "metadata": {},
   "source": [
    "# Proyecto Semestral\n",
    "\n",
    "![](https://www.googleapis.com/download/storage/v1/b/kaggle-user-content/o/inbox%2F4895752%2F391fac1718d81b6c7cf0b53eb231d562%2Finbox_4895752_5e4735cb769c6be5f5872a052d0007e2_841520521_preview_20170113163124_2.jpg?generation=1597574096430659&alt=media)"
   ]
  },
  {
   "cell_type": "markdown",
   "metadata": {},
   "source": [
    "## Integrantes\n",
    "* Felipe Miranda Rebolledo\n",
    "* "
   ]
  },
  {
   "cell_type": "markdown",
   "metadata": {},
   "source": [
    "## Entrega 1"
   ]
  },
  {
   "cell_type": "markdown",
   "metadata": {},
   "source": [
    "### Importación de Librerías"
   ]
  },
  {
   "cell_type": "code",
   "execution_count": 2,
   "metadata": {},
   "outputs": [],
   "source": [
    "# Importamos las librerias necesarias\n",
    "import pandas as pd\n",
    "import numpy as np\n",
    "import matplotlib.pyplot as plt\n",
    "import seaborn as sns\n",
    "import scipy as sp"
   ]
  },
  {
   "cell_type": "markdown",
   "metadata": {},
   "source": [
    "### Carga y visualización de Data"
   ]
  },
  {
   "cell_type": "code",
   "execution_count": 5,
   "metadata": {},
   "outputs": [
    {
     "data": {
      "text/plain": [
       "Index(['Unnamed: 0', 'Map', 'Team', 'InternalTeamId', 'MatchId', 'RoundId',\n",
       "       'SteamId', 'RoundWinner', 'MatchWinner', 'Survived', 'AbnormalMatch',\n",
       "       'TimeAlive', 'ScaledTimeAlive', 'AvgCentroidDistance',\n",
       "       'TravelledDistance', 'AvgRoundVelocity', 'AvgKillDistance',\n",
       "       'AvgSiteDistance', 'RLethalGrenadesThrown', 'RNonLethalGrenadesThrown',\n",
       "       'PrimaryAssaultRifle', 'PrimarySniperRifle', 'PrimaryHeavy',\n",
       "       'PrimarySMG', 'PrimaryPistol', 'FirstKillTime', 'RoundKills',\n",
       "       'RoundAssists', 'RoundHeadshots', 'RoundFlankKills',\n",
       "       'RoundStartingEquipmentValue', 'TeamStartingEquipmentValue',\n",
       "       'MatchKills', 'MatchFlankKills', 'MatchAssists', 'MatchHeadshots',\n",
       "       'AvgMatchKillDist'],\n",
       "      dtype='object')"
      ]
     },
     "execution_count": 5,
     "metadata": {},
     "output_type": "execute_result"
    }
   ],
   "source": [
    "# Cargamos la data\n",
    "data_frame = pd.read_csv(\"docs/demo_round_traces.csv\", sep=\";\") # Cargamos el archivo csv\n",
    "data_frame.columns"
   ]
  },
  {
   "cell_type": "markdown",
   "metadata": {},
   "source": [
    "## Pregunta 1:\n",
    "**¿Cuál es el mapa con mayor cantidad de tiros a la cabeza y de qué equipo fue?**"
   ]
  },
  {
   "cell_type": "code",
   "execution_count": 10,
   "metadata": {},
   "outputs": [
    {
     "data": {
      "text/html": [
       "<div>\n",
       "<style scoped>\n",
       "    .dataframe tbody tr th:only-of-type {\n",
       "        vertical-align: middle;\n",
       "    }\n",
       "\n",
       "    .dataframe tbody tr th {\n",
       "        vertical-align: top;\n",
       "    }\n",
       "\n",
       "    .dataframe thead th {\n",
       "        text-align: right;\n",
       "    }\n",
       "</style>\n",
       "<table border=\"1\" class=\"dataframe\">\n",
       "  <thead>\n",
       "    <tr style=\"text-align: right;\">\n",
       "      <th></th>\n",
       "      <th>Map</th>\n",
       "      <th>Team</th>\n",
       "      <th>InternalTeamId</th>\n",
       "      <th>MatchHeadshots</th>\n",
       "    </tr>\n",
       "  </thead>\n",
       "  <tbody>\n",
       "    <tr>\n",
       "      <th>0</th>\n",
       "      <td>de_inferno</td>\n",
       "      <td>Terrorist</td>\n",
       "      <td>1</td>\n",
       "      <td>0</td>\n",
       "    </tr>\n",
       "    <tr>\n",
       "      <th>1</th>\n",
       "      <td>de_inferno</td>\n",
       "      <td>Terrorist</td>\n",
       "      <td>1</td>\n",
       "      <td>0</td>\n",
       "    </tr>\n",
       "    <tr>\n",
       "      <th>2</th>\n",
       "      <td>de_inferno</td>\n",
       "      <td>Terrorist</td>\n",
       "      <td>1</td>\n",
       "      <td>0</td>\n",
       "    </tr>\n",
       "    <tr>\n",
       "      <th>3</th>\n",
       "      <td>de_inferno</td>\n",
       "      <td>Terrorist</td>\n",
       "      <td>1</td>\n",
       "      <td>0</td>\n",
       "    </tr>\n",
       "    <tr>\n",
       "      <th>4</th>\n",
       "      <td>de_inferno</td>\n",
       "      <td>Terrorist</td>\n",
       "      <td>1</td>\n",
       "      <td>0</td>\n",
       "    </tr>\n",
       "    <tr>\n",
       "      <th>...</th>\n",
       "      <td>...</td>\n",
       "      <td>...</td>\n",
       "      <td>...</td>\n",
       "      <td>...</td>\n",
       "    </tr>\n",
       "    <tr>\n",
       "      <th>79152</th>\n",
       "      <td>de_mirage</td>\n",
       "      <td>CounterTerrorist</td>\n",
       "      <td>2</td>\n",
       "      <td>2</td>\n",
       "    </tr>\n",
       "    <tr>\n",
       "      <th>79153</th>\n",
       "      <td>de_mirage</td>\n",
       "      <td>CounterTerrorist</td>\n",
       "      <td>2</td>\n",
       "      <td>3</td>\n",
       "    </tr>\n",
       "    <tr>\n",
       "      <th>79154</th>\n",
       "      <td>de_mirage</td>\n",
       "      <td>CounterTerrorist</td>\n",
       "      <td>2</td>\n",
       "      <td>3</td>\n",
       "    </tr>\n",
       "    <tr>\n",
       "      <th>79155</th>\n",
       "      <td>de_mirage</td>\n",
       "      <td>CounterTerrorist</td>\n",
       "      <td>2</td>\n",
       "      <td>0</td>\n",
       "    </tr>\n",
       "    <tr>\n",
       "      <th>79156</th>\n",
       "      <td>de_mirage</td>\n",
       "      <td>CounterTerrorist</td>\n",
       "      <td>2</td>\n",
       "      <td>2</td>\n",
       "    </tr>\n",
       "  </tbody>\n",
       "</table>\n",
       "<p>79157 rows × 4 columns</p>\n",
       "</div>"
      ],
      "text/plain": [
       "              Map              Team  InternalTeamId  MatchHeadshots\n",
       "0      de_inferno         Terrorist               1               0\n",
       "1      de_inferno         Terrorist               1               0\n",
       "2      de_inferno         Terrorist               1               0\n",
       "3      de_inferno         Terrorist               1               0\n",
       "4      de_inferno         Terrorist               1               0\n",
       "...           ...               ...             ...             ...\n",
       "79152   de_mirage  CounterTerrorist               2               2\n",
       "79153   de_mirage  CounterTerrorist               2               3\n",
       "79154   de_mirage  CounterTerrorist               2               3\n",
       "79155   de_mirage  CounterTerrorist               2               0\n",
       "79156   de_mirage  CounterTerrorist               2               2\n",
       "\n",
       "[79157 rows x 4 columns]"
      ]
     },
     "execution_count": 10,
     "metadata": {},
     "output_type": "execute_result"
    }
   ],
   "source": [
    "# Seleccionar columnas a utilizar\n",
    "column_select = data_frame[[\"Map\", \"Team\", \"InternalTeamId\", \"MatchHeadshots\"]]\n",
    "column_select"
   ]
  },
  {
   "cell_type": "code",
   "execution_count": 20,
   "metadata": {},
   "outputs": [
    {
     "data": {
      "text/plain": [
       "Map\n",
       "de_dust2      3.89\n",
       "de_inferno    3.96\n",
       "de_mirage     3.63\n",
       "de_nuke       3.94\n",
       "Name: MatchHeadshots, dtype: float64"
      ]
     },
     "execution_count": 20,
     "metadata": {},
     "output_type": "execute_result"
    }
   ],
   "source": [
    "# Obtenemos el promedio de headshots por mapa\n",
    "headshots_mean = column_select.groupby(\"Map\")[\"MatchHeadshots\"].mean()\n",
    "# Ver dos decimales\n",
    "headshots_mean = headshots_mean.round(2)\n",
    "headshots_mean"
   ]
  },
  {
   "cell_type": "code",
   "execution_count": 22,
   "metadata": {},
   "outputs": [
    {
     "data": {
      "image/png": "[encoded data removed]",
      "text/plain": [
       "<Figure size 640x480 with 1 Axes>"
      ]
     },
     "metadata": {},
     "output_type": "display_data"
    }
   ],
   "source": [
    "# Graficamos el promedio de headshots por mapa\n",
    "headshots_mean.plot(kind=\"bar\", color=\"green\")\n",
    "plt.title(\"Promedio de headshots por mapa\")\n",
    "plt.ylabel(\"Promedio de headshots\")\n",
    "plt.xlabel(\"Mapa\")\n",
    "plt.show()"
   ]
  },
  {
   "cell_type": "markdown",
   "metadata": {},
   "source": [
    "Podemos notar que el mapa donde más tiros a la cabeza se realizan es en **\"de_inferno\"**"
   ]
  },
  {
   "cell_type": "code",
   "execution_count": 21,
   "metadata": {},
   "outputs": [
    {
     "data": {
      "text/plain": [
       "Team\n",
       "CounterTerrorist    4.04\n",
       "Terrorist           3.87\n",
       "Name: MatchHeadshots, dtype: float64"
      ]
     },
     "execution_count": 21,
     "metadata": {},
     "output_type": "execute_result"
    }
   ],
   "source": [
    "# Saber que equipo da mas headshots en el mapa de inferno\n",
    "inferno = column_select[column_select[\"Map\"] == \"de_inferno\"]\n",
    "inferno = inferno.groupby(\"Team\")[\"MatchHeadshots\"].mean()\n",
    "inferno = inferno.round(2)\n",
    "inferno"
   ]
  },
  {
   "cell_type": "code",
   "execution_count": 24,
   "metadata": {},
   "outputs": [
    {
     "data": {
      "image/png": "[encoded data removed]",
      "text/plain": [
       "<Figure size 640x480 with 1 Axes>"
      ]
     },
     "metadata": {},
     "output_type": "display_data"
    }
   ],
   "source": [
    "# Graficamos el promedio de headshots por equipo en el mapa de inferno\n",
    "set_color = [\"blue\", \"red\"]\n",
    "inferno.plot(kind=\"bar\", color=set_color)\n",
    "plt.title(\"Promedio de headshots por equipo en inferno\")\n",
    "plt.ylabel(\"Promedio de headshots\")\n",
    "plt.xlabel(\"Equipo\")\n",
    "plt.show()"
   ]
  },
  {
   "cell_type": "markdown",
   "metadata": {},
   "source": [
    "**Respuesta:** Podemos ver que el mapa en el que más Headshots se realizan es en el **\"de_inferno\"** y el equipo quien los realiza es el **\"CounterTerrorist\"**"
   ]
  }
 ],
 "metadata": {
  "kernelspec": {
   "display_name": "Python 3",
   "language": "python",
   "name": "python3"
  },
  "language_info": {
   "codemirror_mode": {
    "name": "ipython",
    "version": 3
   },
   "file_extension": ".py",
   "mimetype": "text/x-python",
   "name": "python",
   "nbconvert_exporter": "python",
   "pygments_lexer": "ipython3",
   "version": "3.11.5"
  }
 },
 "nbformat": 4,
 "nbformat_minor": 2
}
