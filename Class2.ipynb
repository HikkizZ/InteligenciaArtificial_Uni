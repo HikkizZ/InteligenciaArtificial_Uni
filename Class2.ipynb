{
 "cells": [
  {
   "cell_type": "markdown",
   "metadata": {},
   "source": [
    "## Carga de Liberías"
   ]
  },
  {
   "cell_type": "code",
   "execution_count": 1,
   "metadata": {},
   "outputs": [],
   "source": [
    "# Liberías necesarias para trabajar con Datos\n",
    "import pandas as pd # Librería para trabajar con DataFrames\n",
    "import numpy as np # Librería para trabajar con vectores y matrices\n",
    "import matplotlib.pyplot as plt # Librería para realizar gráficos\n",
    "import seaborn as sns # Librería para realizar gráficos\n",
    "import scipy.stats as iqr # Librería para realizar gráficos"
   ]
  },
  {
   "cell_type": "markdown",
   "metadata": {},
   "source": [
    "## Carga de Data\n",
    "\n",
    "**Descripción**. Encuesta de preferencias alimentarias 2019.\n",
    "Esta encuesta se realizó entre participantes de diferentes países y demografía."
   ]
  },
  {
   "cell_type": "code",
   "execution_count": 7,
   "metadata": {},
   "outputs": [
    {
     "data": {
      "text/html": [
       "<div>\n",
       "<style scoped>\n",
       "    .dataframe tbody tr th:only-of-type {\n",
       "        vertical-align: middle;\n",
       "    }\n",
       "\n",
       "    .dataframe tbody tr th {\n",
       "        vertical-align: top;\n",
       "    }\n",
       "\n",
       "    .dataframe thead th {\n",
       "        text-align: right;\n",
       "    }\n",
       "</style>\n",
       "<table border=\"1\" class=\"dataframe\">\n",
       "  <thead>\n",
       "    <tr style=\"text-align: right;\">\n",
       "      <th></th>\n",
       "      <th>Timestamp</th>\n",
       "      <th>Participant_ID</th>\n",
       "      <th>Gender</th>\n",
       "      <th>Nationality</th>\n",
       "      <th>Age</th>\n",
       "      <th>Food</th>\n",
       "      <th>Juice</th>\n",
       "      <th>Dessert</th>\n",
       "    </tr>\n",
       "  </thead>\n",
       "  <tbody>\n",
       "    <tr>\n",
       "      <th>0</th>\n",
       "      <td>2019/05/07 2:59:13 PM GMT+8</td>\n",
       "      <td>FPS001</td>\n",
       "      <td>Male</td>\n",
       "      <td>Indian</td>\n",
       "      <td>24</td>\n",
       "      <td>Traditional food</td>\n",
       "      <td>Fresh Juice</td>\n",
       "      <td>Maybe</td>\n",
       "    </tr>\n",
       "    <tr>\n",
       "      <th>1</th>\n",
       "      <td>2019/05/07 2:59:45 PM GMT+8</td>\n",
       "      <td>FPS002</td>\n",
       "      <td>Female</td>\n",
       "      <td>Indian</td>\n",
       "      <td>22</td>\n",
       "      <td>Western Food</td>\n",
       "      <td>Carbonated drinks</td>\n",
       "      <td>Yes</td>\n",
       "    </tr>\n",
       "    <tr>\n",
       "      <th>2</th>\n",
       "      <td>2019/05/07 3:00:05 PM GMT+8</td>\n",
       "      <td>FPS003</td>\n",
       "      <td>Male</td>\n",
       "      <td>Indian</td>\n",
       "      <td>31</td>\n",
       "      <td>Western Food</td>\n",
       "      <td>Fresh Juice</td>\n",
       "      <td>Maybe</td>\n",
       "    </tr>\n",
       "    <tr>\n",
       "      <th>3</th>\n",
       "      <td>2019/05/07 3:00:11 PM GMT+8</td>\n",
       "      <td>FPS004</td>\n",
       "      <td>Female</td>\n",
       "      <td>Indian</td>\n",
       "      <td>25</td>\n",
       "      <td>Traditional food</td>\n",
       "      <td>Fresh Juice</td>\n",
       "      <td>Maybe</td>\n",
       "    </tr>\n",
       "    <tr>\n",
       "      <th>4</th>\n",
       "      <td>2019/05/07 3:02:50 PM GMT+8</td>\n",
       "      <td>FPS005</td>\n",
       "      <td>Male</td>\n",
       "      <td>Indian</td>\n",
       "      <td>27</td>\n",
       "      <td>Traditional food</td>\n",
       "      <td>Fresh Juice</td>\n",
       "      <td>Maybe</td>\n",
       "    </tr>\n",
       "    <tr>\n",
       "      <th>...</th>\n",
       "      <td>...</td>\n",
       "      <td>...</td>\n",
       "      <td>...</td>\n",
       "      <td>...</td>\n",
       "      <td>...</td>\n",
       "      <td>...</td>\n",
       "      <td>...</td>\n",
       "      <td>...</td>\n",
       "    </tr>\n",
       "    <tr>\n",
       "      <th>283</th>\n",
       "      <td>2019/05/10 9:24:00 AM GMT+8</td>\n",
       "      <td>FPS284</td>\n",
       "      <td>Male</td>\n",
       "      <td>Indian</td>\n",
       "      <td>27</td>\n",
       "      <td>Western Food</td>\n",
       "      <td>Fresh Juice</td>\n",
       "      <td>Yes</td>\n",
       "    </tr>\n",
       "    <tr>\n",
       "      <th>284</th>\n",
       "      <td>2019/05/10 9:32:54 AM GMT+8</td>\n",
       "      <td>FPS285</td>\n",
       "      <td>Male</td>\n",
       "      <td>Indian</td>\n",
       "      <td>24</td>\n",
       "      <td>Traditional food</td>\n",
       "      <td>Fresh Juice</td>\n",
       "      <td>Yes</td>\n",
       "    </tr>\n",
       "    <tr>\n",
       "      <th>285</th>\n",
       "      <td>2019/05/10 12:09:17 PM GMT+8</td>\n",
       "      <td>FPS286</td>\n",
       "      <td>Male</td>\n",
       "      <td>Indian</td>\n",
       "      <td>25</td>\n",
       "      <td>Traditional food</td>\n",
       "      <td>Fresh Juice</td>\n",
       "      <td>Yes</td>\n",
       "    </tr>\n",
       "    <tr>\n",
       "      <th>286</th>\n",
       "      <td>2019/05/10 12:52:17 PM GMT+8</td>\n",
       "      <td>FPS287</td>\n",
       "      <td>Male</td>\n",
       "      <td>Indian</td>\n",
       "      <td>27</td>\n",
       "      <td>Traditional food</td>\n",
       "      <td>Fresh Juice</td>\n",
       "      <td>Yes</td>\n",
       "    </tr>\n",
       "    <tr>\n",
       "      <th>287</th>\n",
       "      <td>2019/05/10 12:55:42 PM GMT+8</td>\n",
       "      <td>FPS288</td>\n",
       "      <td>Male</td>\n",
       "      <td>Indian</td>\n",
       "      <td>27</td>\n",
       "      <td>Traditional food</td>\n",
       "      <td>Fresh Juice</td>\n",
       "      <td>No</td>\n",
       "    </tr>\n",
       "  </tbody>\n",
       "</table>\n",
       "<p>288 rows × 8 columns</p>\n",
       "</div>"
      ],
      "text/plain": [
       "                        Timestamp Participant_ID  Gender Nationality  Age  \\\n",
       "0     2019/05/07 2:59:13 PM GMT+8         FPS001    Male      Indian   24   \n",
       "1     2019/05/07 2:59:45 PM GMT+8         FPS002  Female      Indian   22   \n",
       "2     2019/05/07 3:00:05 PM GMT+8         FPS003    Male      Indian   31   \n",
       "3     2019/05/07 3:00:11 PM GMT+8         FPS004  Female      Indian   25   \n",
       "4     2019/05/07 3:02:50 PM GMT+8         FPS005    Male      Indian   27   \n",
       "..                            ...            ...     ...         ...  ...   \n",
       "283   2019/05/10 9:24:00 AM GMT+8         FPS284    Male      Indian   27   \n",
       "284   2019/05/10 9:32:54 AM GMT+8         FPS285    Male      Indian   24   \n",
       "285  2019/05/10 12:09:17 PM GMT+8         FPS286    Male      Indian   25   \n",
       "286  2019/05/10 12:52:17 PM GMT+8         FPS287    Male      Indian   27   \n",
       "287  2019/05/10 12:55:42 PM GMT+8         FPS288    Male      Indian   27   \n",
       "\n",
       "                 Food              Juice Dessert  \n",
       "0    Traditional food        Fresh Juice   Maybe  \n",
       "1        Western Food  Carbonated drinks     Yes  \n",
       "2        Western Food        Fresh Juice   Maybe  \n",
       "3    Traditional food        Fresh Juice   Maybe  \n",
       "4    Traditional food        Fresh Juice   Maybe  \n",
       "..                ...                ...     ...  \n",
       "283      Western Food        Fresh Juice     Yes  \n",
       "284  Traditional food        Fresh Juice     Yes  \n",
       "285  Traditional food        Fresh Juice     Yes  \n",
       "286  Traditional food        Fresh Juice     Yes  \n",
       "287  Traditional food        Fresh Juice      No  \n",
       "\n",
       "[288 rows x 8 columns]"
      ]
     },
     "execution_count": 7,
     "metadata": {},
     "output_type": "execute_result"
    }
   ],
   "source": [
    "data_frame = pd.read_csv('docs/Food_Preference.csv') # Cargamos el dataset\n",
    "data_frame # Mostramos el dataset"
   ]
  },
  {
   "cell_type": "code",
   "execution_count": 9,
   "metadata": {},
   "outputs": [
    {
     "data": {
      "text/plain": [
       "0        Male\n",
       "1      Female\n",
       "2        Male\n",
       "3      Female\n",
       "4        Male\n",
       "        ...  \n",
       "283      Male\n",
       "284      Male\n",
       "285      Male\n",
       "286      Male\n",
       "287      Male\n",
       "Name: Gender, Length: 288, dtype: object"
      ]
     },
     "execution_count": 9,
     "metadata": {},
     "output_type": "execute_result"
    }
   ],
   "source": [
    "# Forma para acceder a una columna del dataset\n",
    "data_frame.Gender"
   ]
  },
  {
   "cell_type": "code",
   "execution_count": 10,
   "metadata": {},
   "outputs": [
    {
     "data": {
      "text/plain": [
       "0        Male\n",
       "1      Female\n",
       "2        Male\n",
       "3      Female\n",
       "4        Male\n",
       "        ...  \n",
       "283      Male\n",
       "284      Male\n",
       "285      Male\n",
       "286      Male\n",
       "287      Male\n",
       "Name: Gender, Length: 288, dtype: object"
      ]
     },
     "execution_count": 10,
     "metadata": {},
     "output_type": "execute_result"
    }
   ],
   "source": [
    "# Otra forma para acceder a una columna del dataset\n",
    "data_frame[\"Gender\"]"
   ]
  },
  {
   "cell_type": "code",
   "execution_count": 11,
   "metadata": {},
   "outputs": [
    {
     "data": {
      "text/html": [
       "<div>\n",
       "<style scoped>\n",
       "    .dataframe tbody tr th:only-of-type {\n",
       "        vertical-align: middle;\n",
       "    }\n",
       "\n",
       "    .dataframe tbody tr th {\n",
       "        vertical-align: top;\n",
       "    }\n",
       "\n",
       "    .dataframe thead th {\n",
       "        text-align: right;\n",
       "    }\n",
       "</style>\n",
       "<table border=\"1\" class=\"dataframe\">\n",
       "  <thead>\n",
       "    <tr style=\"text-align: right;\">\n",
       "      <th></th>\n",
       "      <th>Gender</th>\n",
       "      <th>Nationality</th>\n",
       "    </tr>\n",
       "  </thead>\n",
       "  <tbody>\n",
       "    <tr>\n",
       "      <th>0</th>\n",
       "      <td>Male</td>\n",
       "      <td>Indian</td>\n",
       "    </tr>\n",
       "    <tr>\n",
       "      <th>1</th>\n",
       "      <td>Female</td>\n",
       "      <td>Indian</td>\n",
       "    </tr>\n",
       "    <tr>\n",
       "      <th>2</th>\n",
       "      <td>Male</td>\n",
       "      <td>Indian</td>\n",
       "    </tr>\n",
       "    <tr>\n",
       "      <th>3</th>\n",
       "      <td>Female</td>\n",
       "      <td>Indian</td>\n",
       "    </tr>\n",
       "    <tr>\n",
       "      <th>4</th>\n",
       "      <td>Male</td>\n",
       "      <td>Indian</td>\n",
       "    </tr>\n",
       "    <tr>\n",
       "      <th>...</th>\n",
       "      <td>...</td>\n",
       "      <td>...</td>\n",
       "    </tr>\n",
       "    <tr>\n",
       "      <th>283</th>\n",
       "      <td>Male</td>\n",
       "      <td>Indian</td>\n",
       "    </tr>\n",
       "    <tr>\n",
       "      <th>284</th>\n",
       "      <td>Male</td>\n",
       "      <td>Indian</td>\n",
       "    </tr>\n",
       "    <tr>\n",
       "      <th>285</th>\n",
       "      <td>Male</td>\n",
       "      <td>Indian</td>\n",
       "    </tr>\n",
       "    <tr>\n",
       "      <th>286</th>\n",
       "      <td>Male</td>\n",
       "      <td>Indian</td>\n",
       "    </tr>\n",
       "    <tr>\n",
       "      <th>287</th>\n",
       "      <td>Male</td>\n",
       "      <td>Indian</td>\n",
       "    </tr>\n",
       "  </tbody>\n",
       "</table>\n",
       "<p>288 rows × 2 columns</p>\n",
       "</div>"
      ],
      "text/plain": [
       "     Gender Nationality\n",
       "0      Male      Indian\n",
       "1    Female      Indian\n",
       "2      Male      Indian\n",
       "3    Female      Indian\n",
       "4      Male      Indian\n",
       "..      ...         ...\n",
       "283    Male      Indian\n",
       "284    Male      Indian\n",
       "285    Male      Indian\n",
       "286    Male      Indian\n",
       "287    Male      Indian\n",
       "\n",
       "[288 rows x 2 columns]"
      ]
     },
     "execution_count": 11,
     "metadata": {},
     "output_type": "execute_result"
    }
   ],
   "source": [
    "# Para acceder a más de una columna del dataset\n",
    "data_frame[[\"Gender\", \"Nationality\"]] # Se debe pasar una lista con los nombres de las columnas"
   ]
  },
  {
   "cell_type": "code",
   "execution_count": 12,
   "metadata": {},
   "outputs": [
    {
     "data": {
      "text/plain": [
       "(288, 8)"
      ]
     },
     "execution_count": 12,
     "metadata": {},
     "output_type": "execute_result"
    }
   ],
   "source": [
    "# Obtener el número de filas y columnas del dataset\n",
    "data_frame.shape # (filas, columnas)"
   ]
  },
  {
   "cell_type": "code",
   "execution_count": 13,
   "metadata": {},
   "outputs": [
    {
     "data": {
      "text/plain": [
       "Index(['Timestamp', 'Participant_ID', 'Gender', 'Nationality', 'Age', 'Food',\n",
       "       'Juice', 'Dessert'],\n",
       "      dtype='object')"
      ]
     },
     "execution_count": 13,
     "metadata": {},
     "output_type": "execute_result"
    }
   ],
   "source": [
    "# Obtener el nombre de las columnas del dataset\n",
    "data_frame.columns"
   ]
  },
  {
   "cell_type": "markdown",
   "metadata": {},
   "source": [
    "## Análisis Explicatorio"
   ]
  },
  {
   "cell_type": "markdown",
   "metadata": {},
   "source": [
    "### Tipos de variables"
   ]
  },
  {
   "cell_type": "code",
   "execution_count": 14,
   "metadata": {},
   "outputs": [
    {
     "data": {
      "text/plain": [
       "Timestamp         object\n",
       "Participant_ID    object\n",
       "Gender            object\n",
       "Nationality       object\n",
       "Age                int64\n",
       "Food              object\n",
       "Juice             object\n",
       "Dessert           object\n",
       "dtype: object"
      ]
     },
     "execution_count": 14,
     "metadata": {},
     "output_type": "execute_result"
    }
   ],
   "source": [
    "# Revisión de los tipos de datos de las columnas del dataset\n",
    "data_frame.dtypes"
   ]
  },
  {
   "cell_type": "markdown",
   "metadata": {},
   "source": [
    "Usando el resultado anterior es posible detectar que se tienen 6 variables cualitativas y 2 variables cuantitativas.\n",
    "\n",
    "**Variables Cualitativas:**\n",
    "\n",
    "* Participant_ID: Variable nominal\n",
    "* Gender: Variable nominal\n",
    "* Nationality: Variable nominal\n",
    "* Food: Variable nominal\n",
    "* Juice: Variable nominal\n",
    "* Dessert: Variable nominal\n",
    "\n",
    "**Variables Cuantitativas:**\n",
    "* Timestap: Variable de intervalos\n",
    "* Age: Variable de Razón\n"
   ]
  },
  {
   "cell_type": "markdown",
   "metadata": {},
   "source": [
    "### Variables numéricas"
   ]
  },
  {
   "cell_type": "code",
   "execution_count": 15,
   "metadata": {},
   "outputs": [
    {
     "data": {
      "text/plain": [
       "Index(['Age'], dtype='object')"
      ]
     },
     "execution_count": 15,
     "metadata": {},
     "output_type": "execute_result"
    }
   ],
   "source": [
    "# Obtener un resumen de las columnas numéricas del dataset\n",
    "numeric_feactures = data_frame.describe().columns # Se obtienen las columnas numéricas\n",
    "numeric_feactures # Se muestran las columnas numéricas"
   ]
  },
  {
   "cell_type": "markdown",
   "metadata": {},
   "source": [
    "### Obtención de Medidas Estadísticas"
   ]
  },
  {
   "cell_type": "code",
   "execution_count": 16,
   "metadata": {},
   "outputs": [
    {
     "data": {
      "text/html": [
       "<div>\n",
       "<style scoped>\n",
       "    .dataframe tbody tr th:only-of-type {\n",
       "        vertical-align: middle;\n",
       "    }\n",
       "\n",
       "    .dataframe tbody tr th {\n",
       "        vertical-align: top;\n",
       "    }\n",
       "\n",
       "    .dataframe thead th {\n",
       "        text-align: right;\n",
       "    }\n",
       "</style>\n",
       "<table border=\"1\" class=\"dataframe\">\n",
       "  <thead>\n",
       "    <tr style=\"text-align: right;\">\n",
       "      <th></th>\n",
       "      <th>Age</th>\n",
       "    </tr>\n",
       "  </thead>\n",
       "  <tbody>\n",
       "    <tr>\n",
       "      <th>count</th>\n",
       "      <td>288.000000</td>\n",
       "    </tr>\n",
       "    <tr>\n",
       "      <th>mean</th>\n",
       "      <td>30.597222</td>\n",
       "    </tr>\n",
       "    <tr>\n",
       "      <th>std</th>\n",
       "      <td>11.180383</td>\n",
       "    </tr>\n",
       "    <tr>\n",
       "      <th>min</th>\n",
       "      <td>8.000000</td>\n",
       "    </tr>\n",
       "    <tr>\n",
       "      <th>25%</th>\n",
       "      <td>24.000000</td>\n",
       "    </tr>\n",
       "    <tr>\n",
       "      <th>50%</th>\n",
       "      <td>28.000000</td>\n",
       "    </tr>\n",
       "    <tr>\n",
       "      <th>75%</th>\n",
       "      <td>36.250000</td>\n",
       "    </tr>\n",
       "    <tr>\n",
       "      <th>max</th>\n",
       "      <td>80.000000</td>\n",
       "    </tr>\n",
       "  </tbody>\n",
       "</table>\n",
       "</div>"
      ],
      "text/plain": [
       "              Age\n",
       "count  288.000000\n",
       "mean    30.597222\n",
       "std     11.180383\n",
       "min      8.000000\n",
       "25%     24.000000\n",
       "50%     28.000000\n",
       "75%     36.250000\n",
       "max     80.000000"
      ]
     },
     "execution_count": 16,
     "metadata": {},
     "output_type": "execute_result"
    }
   ],
   "source": [
    "data_frame.describe() # Se obtiene un resumen de las columnas numéricas"
   ]
  },
  {
   "cell_type": "markdown",
   "metadata": {},
   "source": [
    "#### Interpretación\n",
    "\n",
    "* **Primer quartil**. El 25% de los encuestados tiene una edad igual o menor a 24 años.\n",
    "* El **promedio** de edad de los encuestados es de 31 años.\n",
    "* **Desviación estándar**. La mayor concentración de datos tiene una edad que se encuentra entre los 20 y los 42 años."
   ]
  },
  {
   "cell_type": "code",
   "execution_count": 17,
   "metadata": {},
   "outputs": [
    {
     "data": {
      "text/html": [
       "<div>\n",
       "<style scoped>\n",
       "    .dataframe tbody tr th:only-of-type {\n",
       "        vertical-align: middle;\n",
       "    }\n",
       "\n",
       "    .dataframe tbody tr th {\n",
       "        vertical-align: top;\n",
       "    }\n",
       "\n",
       "    .dataframe thead th {\n",
       "        text-align: right;\n",
       "    }\n",
       "</style>\n",
       "<table border=\"1\" class=\"dataframe\">\n",
       "  <thead>\n",
       "    <tr style=\"text-align: right;\">\n",
       "      <th></th>\n",
       "      <th>Timestamp</th>\n",
       "      <th>Participant_ID</th>\n",
       "      <th>Gender</th>\n",
       "      <th>Nationality</th>\n",
       "      <th>Age</th>\n",
       "      <th>Food</th>\n",
       "      <th>Juice</th>\n",
       "      <th>Dessert</th>\n",
       "    </tr>\n",
       "  </thead>\n",
       "  <tbody>\n",
       "    <tr>\n",
       "      <th>1</th>\n",
       "      <td>2019/05/07 2:59:45 PM GMT+8</td>\n",
       "      <td>FPS002</td>\n",
       "      <td>Female</td>\n",
       "      <td>Indian</td>\n",
       "      <td>22</td>\n",
       "      <td>Western Food</td>\n",
       "      <td>Carbonated drinks</td>\n",
       "      <td>Yes</td>\n",
       "    </tr>\n",
       "    <tr>\n",
       "      <th>8</th>\n",
       "      <td>2019/05/07 3:05:39 PM GMT+8</td>\n",
       "      <td>FPS009</td>\n",
       "      <td>Female</td>\n",
       "      <td>Indian</td>\n",
       "      <td>19</td>\n",
       "      <td>Traditional food</td>\n",
       "      <td>Fresh Juice</td>\n",
       "      <td>Yes</td>\n",
       "    </tr>\n",
       "    <tr>\n",
       "      <th>9</th>\n",
       "      <td>2019/05/07 3:06:53 PM GMT+8</td>\n",
       "      <td>FPS010</td>\n",
       "      <td>Female</td>\n",
       "      <td>Indian</td>\n",
       "      <td>16</td>\n",
       "      <td>Western Food</td>\n",
       "      <td>Fresh Juice</td>\n",
       "      <td>Yes</td>\n",
       "    </tr>\n",
       "    <tr>\n",
       "      <th>10</th>\n",
       "      <td>2019/05/07 3:07:26 PM GMT+8</td>\n",
       "      <td>FPS011</td>\n",
       "      <td>Male</td>\n",
       "      <td>Tanzanian</td>\n",
       "      <td>23</td>\n",
       "      <td>Traditional food</td>\n",
       "      <td>Fresh Juice</td>\n",
       "      <td>No</td>\n",
       "    </tr>\n",
       "    <tr>\n",
       "      <th>11</th>\n",
       "      <td>2019/05/07 3:07:36 PM GMT+8</td>\n",
       "      <td>FPS012</td>\n",
       "      <td>Female</td>\n",
       "      <td>Indian</td>\n",
       "      <td>22</td>\n",
       "      <td>Traditional food</td>\n",
       "      <td>Fresh Juice</td>\n",
       "      <td>Yes</td>\n",
       "    </tr>\n",
       "    <tr>\n",
       "      <th>...</th>\n",
       "      <td>...</td>\n",
       "      <td>...</td>\n",
       "      <td>...</td>\n",
       "      <td>...</td>\n",
       "      <td>...</td>\n",
       "      <td>...</td>\n",
       "      <td>...</td>\n",
       "      <td>...</td>\n",
       "    </tr>\n",
       "    <tr>\n",
       "      <th>254</th>\n",
       "      <td>2019/05/08 11:07:06 PM GMT+8</td>\n",
       "      <td>FPS255</td>\n",
       "      <td>Female</td>\n",
       "      <td>Indian</td>\n",
       "      <td>17</td>\n",
       "      <td>Traditional food</td>\n",
       "      <td>Fresh Juice</td>\n",
       "      <td>No</td>\n",
       "    </tr>\n",
       "    <tr>\n",
       "      <th>268</th>\n",
       "      <td>2019/05/10 1:09:22 AM GMT+8</td>\n",
       "      <td>FPS269</td>\n",
       "      <td>NaN</td>\n",
       "      <td>Indian</td>\n",
       "      <td>23</td>\n",
       "      <td>Traditional food</td>\n",
       "      <td>Fresh Juice</td>\n",
       "      <td>Yes</td>\n",
       "    </tr>\n",
       "    <tr>\n",
       "      <th>270</th>\n",
       "      <td>2019/05/10 1:11:07 AM GMT+8</td>\n",
       "      <td>FPS271</td>\n",
       "      <td>Male</td>\n",
       "      <td>Indian</td>\n",
       "      <td>23</td>\n",
       "      <td>Traditional food</td>\n",
       "      <td>Carbonated drinks</td>\n",
       "      <td>Yes</td>\n",
       "    </tr>\n",
       "    <tr>\n",
       "      <th>272</th>\n",
       "      <td>2019/05/10 1:12:09 AM GMT+8</td>\n",
       "      <td>FPS273</td>\n",
       "      <td>Male</td>\n",
       "      <td>Indian</td>\n",
       "      <td>23</td>\n",
       "      <td>Traditional food</td>\n",
       "      <td>Fresh Juice</td>\n",
       "      <td>Maybe</td>\n",
       "    </tr>\n",
       "    <tr>\n",
       "      <th>273</th>\n",
       "      <td>2019/05/10 1:17:19 AM GMT+8</td>\n",
       "      <td>FPS274</td>\n",
       "      <td>Female</td>\n",
       "      <td>Indian</td>\n",
       "      <td>22</td>\n",
       "      <td>Traditional food</td>\n",
       "      <td>Fresh Juice</td>\n",
       "      <td>Maybe</td>\n",
       "    </tr>\n",
       "  </tbody>\n",
       "</table>\n",
       "<p>68 rows × 8 columns</p>\n",
       "</div>"
      ],
      "text/plain": [
       "                        Timestamp Participant_ID  Gender Nationality  Age  \\\n",
       "1     2019/05/07 2:59:45 PM GMT+8         FPS002  Female      Indian   22   \n",
       "8     2019/05/07 3:05:39 PM GMT+8         FPS009  Female      Indian   19   \n",
       "9     2019/05/07 3:06:53 PM GMT+8         FPS010  Female      Indian   16   \n",
       "10    2019/05/07 3:07:26 PM GMT+8         FPS011    Male   Tanzanian   23   \n",
       "11    2019/05/07 3:07:36 PM GMT+8         FPS012  Female      Indian   22   \n",
       "..                            ...            ...     ...         ...  ...   \n",
       "254  2019/05/08 11:07:06 PM GMT+8         FPS255  Female      Indian   17   \n",
       "268   2019/05/10 1:09:22 AM GMT+8         FPS269     NaN      Indian   23   \n",
       "270   2019/05/10 1:11:07 AM GMT+8         FPS271    Male      Indian   23   \n",
       "272   2019/05/10 1:12:09 AM GMT+8         FPS273    Male      Indian   23   \n",
       "273   2019/05/10 1:17:19 AM GMT+8         FPS274  Female      Indian   22   \n",
       "\n",
       "                 Food              Juice Dessert  \n",
       "1        Western Food  Carbonated drinks     Yes  \n",
       "8    Traditional food        Fresh Juice     Yes  \n",
       "9        Western Food        Fresh Juice     Yes  \n",
       "10   Traditional food        Fresh Juice      No  \n",
       "11   Traditional food        Fresh Juice     Yes  \n",
       "..                ...                ...     ...  \n",
       "254  Traditional food        Fresh Juice      No  \n",
       "268  Traditional food        Fresh Juice     Yes  \n",
       "270  Traditional food  Carbonated drinks     Yes  \n",
       "272  Traditional food        Fresh Juice   Maybe  \n",
       "273  Traditional food        Fresh Juice   Maybe  \n",
       "\n",
       "[68 rows x 8 columns]"
      ]
     },
     "execution_count": 17,
     "metadata": {},
     "output_type": "execute_result"
    }
   ],
   "source": [
    "data_frame.query(\"Age < 24\") # Se obtienen las filas que cumplen con la condición. En este caso, las personas menores de 24 años"
   ]
  },
  {
   "cell_type": "code",
   "execution_count": 18,
   "metadata": {},
   "outputs": [
    {
     "data": {
      "text/html": [
       "<div>\n",
       "<style scoped>\n",
       "    .dataframe tbody tr th:only-of-type {\n",
       "        vertical-align: middle;\n",
       "    }\n",
       "\n",
       "    .dataframe tbody tr th {\n",
       "        vertical-align: top;\n",
       "    }\n",
       "\n",
       "    .dataframe thead th {\n",
       "        text-align: right;\n",
       "    }\n",
       "</style>\n",
       "<table border=\"1\" class=\"dataframe\">\n",
       "  <thead>\n",
       "    <tr style=\"text-align: right;\">\n",
       "      <th></th>\n",
       "      <th>Timestamp</th>\n",
       "      <th>Participant_ID</th>\n",
       "      <th>Gender</th>\n",
       "      <th>Nationality</th>\n",
       "      <th>Age</th>\n",
       "      <th>Food</th>\n",
       "      <th>Juice</th>\n",
       "      <th>Dessert</th>\n",
       "    </tr>\n",
       "  </thead>\n",
       "  <tbody>\n",
       "    <tr>\n",
       "      <th>0</th>\n",
       "      <td>2019/05/07 2:59:13 PM GMT+8</td>\n",
       "      <td>FPS001</td>\n",
       "      <td>Male</td>\n",
       "      <td>Indian</td>\n",
       "      <td>24</td>\n",
       "      <td>Traditional food</td>\n",
       "      <td>Fresh Juice</td>\n",
       "      <td>Maybe</td>\n",
       "    </tr>\n",
       "    <tr>\n",
       "      <th>1</th>\n",
       "      <td>2019/05/07 2:59:45 PM GMT+8</td>\n",
       "      <td>FPS002</td>\n",
       "      <td>Female</td>\n",
       "      <td>Indian</td>\n",
       "      <td>22</td>\n",
       "      <td>Western Food</td>\n",
       "      <td>Carbonated drinks</td>\n",
       "      <td>Yes</td>\n",
       "    </tr>\n",
       "    <tr>\n",
       "      <th>2</th>\n",
       "      <td>2019/05/07 3:00:05 PM GMT+8</td>\n",
       "      <td>FPS003</td>\n",
       "      <td>Male</td>\n",
       "      <td>Indian</td>\n",
       "      <td>31</td>\n",
       "      <td>Western Food</td>\n",
       "      <td>Fresh Juice</td>\n",
       "      <td>Maybe</td>\n",
       "    </tr>\n",
       "    <tr>\n",
       "      <th>3</th>\n",
       "      <td>2019/05/07 3:00:11 PM GMT+8</td>\n",
       "      <td>FPS004</td>\n",
       "      <td>Female</td>\n",
       "      <td>Indian</td>\n",
       "      <td>25</td>\n",
       "      <td>Traditional food</td>\n",
       "      <td>Fresh Juice</td>\n",
       "      <td>Maybe</td>\n",
       "    </tr>\n",
       "    <tr>\n",
       "      <th>4</th>\n",
       "      <td>2019/05/07 3:02:50 PM GMT+8</td>\n",
       "      <td>FPS005</td>\n",
       "      <td>Male</td>\n",
       "      <td>Indian</td>\n",
       "      <td>27</td>\n",
       "      <td>Traditional food</td>\n",
       "      <td>Fresh Juice</td>\n",
       "      <td>Maybe</td>\n",
       "    </tr>\n",
       "    <tr>\n",
       "      <th>...</th>\n",
       "      <td>...</td>\n",
       "      <td>...</td>\n",
       "      <td>...</td>\n",
       "      <td>...</td>\n",
       "      <td>...</td>\n",
       "      <td>...</td>\n",
       "      <td>...</td>\n",
       "      <td>...</td>\n",
       "    </tr>\n",
       "    <tr>\n",
       "      <th>283</th>\n",
       "      <td>2019/05/10 9:24:00 AM GMT+8</td>\n",
       "      <td>FPS284</td>\n",
       "      <td>Male</td>\n",
       "      <td>Indian</td>\n",
       "      <td>27</td>\n",
       "      <td>Western Food</td>\n",
       "      <td>Fresh Juice</td>\n",
       "      <td>Yes</td>\n",
       "    </tr>\n",
       "    <tr>\n",
       "      <th>284</th>\n",
       "      <td>2019/05/10 9:32:54 AM GMT+8</td>\n",
       "      <td>FPS285</td>\n",
       "      <td>Male</td>\n",
       "      <td>Indian</td>\n",
       "      <td>24</td>\n",
       "      <td>Traditional food</td>\n",
       "      <td>Fresh Juice</td>\n",
       "      <td>Yes</td>\n",
       "    </tr>\n",
       "    <tr>\n",
       "      <th>285</th>\n",
       "      <td>2019/05/10 12:09:17 PM GMT+8</td>\n",
       "      <td>FPS286</td>\n",
       "      <td>Male</td>\n",
       "      <td>Indian</td>\n",
       "      <td>25</td>\n",
       "      <td>Traditional food</td>\n",
       "      <td>Fresh Juice</td>\n",
       "      <td>Yes</td>\n",
       "    </tr>\n",
       "    <tr>\n",
       "      <th>286</th>\n",
       "      <td>2019/05/10 12:52:17 PM GMT+8</td>\n",
       "      <td>FPS287</td>\n",
       "      <td>Male</td>\n",
       "      <td>Indian</td>\n",
       "      <td>27</td>\n",
       "      <td>Traditional food</td>\n",
       "      <td>Fresh Juice</td>\n",
       "      <td>Yes</td>\n",
       "    </tr>\n",
       "    <tr>\n",
       "      <th>287</th>\n",
       "      <td>2019/05/10 12:55:42 PM GMT+8</td>\n",
       "      <td>FPS288</td>\n",
       "      <td>Male</td>\n",
       "      <td>Indian</td>\n",
       "      <td>27</td>\n",
       "      <td>Traditional food</td>\n",
       "      <td>Fresh Juice</td>\n",
       "      <td>No</td>\n",
       "    </tr>\n",
       "  </tbody>\n",
       "</table>\n",
       "<p>220 rows × 8 columns</p>\n",
       "</div>"
      ],
      "text/plain": [
       "                        Timestamp Participant_ID  Gender Nationality  Age  \\\n",
       "0     2019/05/07 2:59:13 PM GMT+8         FPS001    Male      Indian   24   \n",
       "1     2019/05/07 2:59:45 PM GMT+8         FPS002  Female      Indian   22   \n",
       "2     2019/05/07 3:00:05 PM GMT+8         FPS003    Male      Indian   31   \n",
       "3     2019/05/07 3:00:11 PM GMT+8         FPS004  Female      Indian   25   \n",
       "4     2019/05/07 3:02:50 PM GMT+8         FPS005    Male      Indian   27   \n",
       "..                            ...            ...     ...         ...  ...   \n",
       "283   2019/05/10 9:24:00 AM GMT+8         FPS284    Male      Indian   27   \n",
       "284   2019/05/10 9:32:54 AM GMT+8         FPS285    Male      Indian   24   \n",
       "285  2019/05/10 12:09:17 PM GMT+8         FPS286    Male      Indian   25   \n",
       "286  2019/05/10 12:52:17 PM GMT+8         FPS287    Male      Indian   27   \n",
       "287  2019/05/10 12:55:42 PM GMT+8         FPS288    Male      Indian   27   \n",
       "\n",
       "                 Food              Juice Dessert  \n",
       "0    Traditional food        Fresh Juice   Maybe  \n",
       "1        Western Food  Carbonated drinks     Yes  \n",
       "2        Western Food        Fresh Juice   Maybe  \n",
       "3    Traditional food        Fresh Juice   Maybe  \n",
       "4    Traditional food        Fresh Juice   Maybe  \n",
       "..                ...                ...     ...  \n",
       "283      Western Food        Fresh Juice     Yes  \n",
       "284  Traditional food        Fresh Juice     Yes  \n",
       "285  Traditional food        Fresh Juice     Yes  \n",
       "286  Traditional food        Fresh Juice     Yes  \n",
       "287  Traditional food        Fresh Juice      No  \n",
       "\n",
       "[220 rows x 8 columns]"
      ]
     },
     "execution_count": 18,
     "metadata": {},
     "output_type": "execute_result"
    }
   ],
   "source": [
    "data_frame.query(\"Age > 20 and Age < 42\") # Se obtienen las filas que cumplen con la condición. En este caso, las personas entre 20 y 42 años"
   ]
  },
  {
   "cell_type": "code",
   "execution_count": 21,
   "metadata": {},
   "outputs": [
    {
     "name": "stderr",
     "output_type": "stream",
     "text": [
      "C:\\Users\\fmira\\AppData\\Local\\Temp\\ipykernel_23292\\4254514705.py:1: DeprecationWarning: `np.object0` is a deprecated alias for ``np.object0` is a deprecated alias for `np.object_`. `object` can be used instead.  (Deprecated NumPy 1.24)`.  (Deprecated NumPy 1.24)\n",
      "  data_frame.describe(include=np.object0) # Se obtiene un resumen de las columnas categóricas\n"
     ]
    },
    {
     "data": {
      "text/html": [
       "<div>\n",
       "<style scoped>\n",
       "    .dataframe tbody tr th:only-of-type {\n",
       "        vertical-align: middle;\n",
       "    }\n",
       "\n",
       "    .dataframe tbody tr th {\n",
       "        vertical-align: top;\n",
       "    }\n",
       "\n",
       "    .dataframe thead th {\n",
       "        text-align: right;\n",
       "    }\n",
       "</style>\n",
       "<table border=\"1\" class=\"dataframe\">\n",
       "  <thead>\n",
       "    <tr style=\"text-align: right;\">\n",
       "      <th></th>\n",
       "      <th>Timestamp</th>\n",
       "      <th>Participant_ID</th>\n",
       "      <th>Gender</th>\n",
       "      <th>Nationality</th>\n",
       "      <th>Food</th>\n",
       "      <th>Juice</th>\n",
       "      <th>Dessert</th>\n",
       "    </tr>\n",
       "  </thead>\n",
       "  <tbody>\n",
       "    <tr>\n",
       "      <th>count</th>\n",
       "      <td>288</td>\n",
       "      <td>288</td>\n",
       "      <td>284</td>\n",
       "      <td>288</td>\n",
       "      <td>288</td>\n",
       "      <td>288</td>\n",
       "      <td>288</td>\n",
       "    </tr>\n",
       "    <tr>\n",
       "      <th>unique</th>\n",
       "      <td>285</td>\n",
       "      <td>288</td>\n",
       "      <td>2</td>\n",
       "      <td>27</td>\n",
       "      <td>2</td>\n",
       "      <td>2</td>\n",
       "      <td>3</td>\n",
       "    </tr>\n",
       "    <tr>\n",
       "      <th>top</th>\n",
       "      <td>2019/05/08 1:16:11 AM GMT+8</td>\n",
       "      <td>FPS001</td>\n",
       "      <td>Female</td>\n",
       "      <td>Indian</td>\n",
       "      <td>Traditional food</td>\n",
       "      <td>Fresh Juice</td>\n",
       "      <td>Maybe</td>\n",
       "    </tr>\n",
       "    <tr>\n",
       "      <th>freq</th>\n",
       "      <td>2</td>\n",
       "      <td>1</td>\n",
       "      <td>165</td>\n",
       "      <td>241</td>\n",
       "      <td>238</td>\n",
       "      <td>256</td>\n",
       "      <td>122</td>\n",
       "    </tr>\n",
       "  </tbody>\n",
       "</table>\n",
       "</div>"
      ],
      "text/plain": [
       "                          Timestamp Participant_ID  Gender Nationality  \\\n",
       "count                           288            288     284         288   \n",
       "unique                          285            288       2          27   \n",
       "top     2019/05/08 1:16:11 AM GMT+8         FPS001  Female      Indian   \n",
       "freq                              2              1     165         241   \n",
       "\n",
       "                    Food        Juice Dessert  \n",
       "count                288          288     288  \n",
       "unique                 2            2       3  \n",
       "top     Traditional food  Fresh Juice   Maybe  \n",
       "freq                 238          256     122  "
      ]
     },
     "execution_count": 21,
     "metadata": {},
     "output_type": "execute_result"
    }
   ],
   "source": [
    "data_frame.describe(include=np.object0) # Se obtiene un resumen de las columnas categóricas. object0 es el tipo de dato de las columnas categóricas."
   ]
  },
  {
   "cell_type": "markdown",
   "metadata": {},
   "source": [
    "### Datos Nulos"
   ]
  },
  {
   "cell_type": "code",
   "execution_count": 22,
   "metadata": {},
   "outputs": [
    {
     "data": {
      "text/plain": [
       "Timestamp         0\n",
       "Participant_ID    0\n",
       "Gender            4\n",
       "Nationality       0\n",
       "Age               0\n",
       "Food              0\n",
       "Juice             0\n",
       "Dessert           0\n",
       "dtype: int64"
      ]
     },
     "execution_count": 22,
     "metadata": {},
     "output_type": "execute_result"
    }
   ],
   "source": [
    "data_frame.isnull().sum() # Se obtiene la cantidad de valores nulos por columna"
   ]
  },
  {
   "cell_type": "markdown",
   "metadata": {},
   "source": [
    "#### Técnicas de tratamiento de datos nulos\n",
    "1. Eliminar las observaciones (Opción Simple)\n",
    "2. Imputación (Mejor Opción). Acá se rellenan los valores vacíos con algún valor, puede ser el promedio del valor de la columna, tambien puede ser el valor más repetido en el caso de una variable categórica.\n",
    "3. Una extensión de la imputación. Se agrega una columna indicando que el valor ha sido reemplazado, de esta forma, se mantiene \"identificados\" a los valores nulos."
   ]
  },
  {
   "cell_type": "code",
   "execution_count": 23,
   "metadata": {},
   "outputs": [
    {
     "data": {
      "text/plain": [
       "Timestamp         0\n",
       "Participant_ID    0\n",
       "Gender            0\n",
       "Nationality       0\n",
       "Age               0\n",
       "Food              0\n",
       "Juice             0\n",
       "Dessert           0\n",
       "dtype: int64"
      ]
     },
     "execution_count": 23,
     "metadata": {},
     "output_type": "execute_result"
    }
   ],
   "source": [
    "# Tratamiento de valores nulos a través de la imputación\n",
    "moda = data_frame[\"Gender\"].mode()[0] # Se obtiene la moda de la columna Gender. Se obtiene el primer valor de la moda.add()\n",
    "data_frame.Gender = data_frame.Gender.fillna(moda) # Se reemplazan los valores nulos por la moda\n",
    "# Comprobación de que no existen valores nulos\n",
    "data_frame.isnull().sum()"
   ]
  },
  {
   "cell_type": "markdown",
   "metadata": {},
   "source": [
    "#### Nota importante\n",
    "Este tema será profundizado más adelante"
   ]
  },
  {
   "cell_type": "markdown",
   "metadata": {},
   "source": [
    "### Interpretación de Medidas\n",
    "Volvamos a la columna de la edad"
   ]
  },
  {
   "cell_type": "code",
   "execution_count": 24,
   "metadata": {},
   "outputs": [
    {
     "data": {
      "text/plain": [
       "count    288.000000\n",
       "mean      30.597222\n",
       "std       11.180383\n",
       "min        8.000000\n",
       "25%       24.000000\n",
       "50%       28.000000\n",
       "75%       36.250000\n",
       "max       80.000000\n",
       "Name: Age, dtype: float64"
      ]
     },
     "execution_count": 24,
     "metadata": {},
     "output_type": "execute_result"
    }
   ],
   "source": [
    "data_frame.Age.describe() # Se obtiene un resumen de la columna Age"
   ]
  },
  {
   "cell_type": "markdown",
   "metadata": {},
   "source": [
    "#### Interpretación\n",
    "* Una importante concentración de los encuestados tiene una edad dentro del intervalo [31 - 11 ; 31 + 11], es decir, [20 ; 42] (Recordar la fórmula $[\\mu - \\sigma; \\mu + \\sigma]$)\n",
    "* El 75% de los encuestados tiene una edad igual o inferior a 36 años.\n",
    "* El 25% de los encuestados tiene una edad igual o inferior a 24 años.\n",
    "\n",
    "**¿Podemos comprobar lo anterior?**"
   ]
  },
  {
   "cell_type": "code",
   "execution_count": 38,
   "metadata": {},
   "outputs": [
    {
     "name": "stdout",
     "output_type": "stream",
     "text": [
      "Intervalo: [19.44, 41.76]\n",
      "78.82\n"
     ]
    }
   ],
   "source": [
    "# Calcular y mostrar el intervalo\n",
    "mean, std = np.mean(data_frame.Age), np.std(data_frame.Age) # Se obtiene la media y la desviación estándar de la columna Age\n",
    "lim_inf, lim_sup = mean - std, mean + std # Se calculan los límites inferior y superior\n",
    "print(f\"Intervalo: [{lim_inf:.2f}, {lim_sup:.2f}]\") # Se muestra el intervalo\n",
    "\n",
    "# Buscar ocurrencias de valores atípicos\n",
    "analizados = data_frame.query(f\"Age >= {lim_inf} and Age <= {lim_sup}\")['Age'].count() # Se obtienen las filas que cumplen con la condición. En este caso, las personas entre 20 y 42 años\n",
    "total = data_frame.shape[0] # Se obtiene el total de filas\n",
    "print(f\"{analizados/total*100:.2f}\") # Se muestra el porcentaje de filas que cumplen con la condición"
   ]
  },
  {
   "cell_type": "code",
   "execution_count": 40,
   "metadata": {},
   "outputs": [
    {
     "name": "stdout",
     "output_type": "stream",
     "text": [
      "Tercer cuartil: 36.25\n",
      "75.00\n"
     ]
    }
   ],
   "source": [
    "# Calcular el tercer cuartil\n",
    "tercerCuartil = np.quantile(data_frame.Age, 0.75) # Se obtiene el tercer cuartil\n",
    "print(f\"Tercer cuartil: {tercerCuartil:.2f}\") # Se muestra el tercer cuartil\n",
    "\n",
    "# Buscar ocurrencias de valores atípicos\n",
    "analizados = data_frame.query(f\"Age <= {tercerCuartil}\")['Age'].count() # Se obtienen las filas que cumplen con la condición.\n",
    "total = data_frame.shape[0] # Se obtiene el total de filas\n",
    "print(f\"{analizados/total*100:.2f}\") # Se muestra el porcentaje de filas que cumplen con la condición"
   ]
  },
  {
   "cell_type": "code",
   "execution_count": 42,
   "metadata": {},
   "outputs": [
    {
     "name": "stdout",
     "output_type": "stream",
     "text": [
      "Primer cuartil: 24.00\n",
      "30.56\n"
     ]
    }
   ],
   "source": [
    "# Calcular el primer cuartil\n",
    "primerCuartil = np.quantile(data_frame.Age, 0.25) # Se obtiene el primer cuartil\n",
    "print(f\"Primer cuartil: {primerCuartil:.2f}\") # Se muestra el primer cuartil\n",
    "\n",
    "# Buscar ocurrencias de valores atípicos\n",
    "analizados = data_frame.query(f\"Age <= {primerCuartil}\")['Age'].count() # Se obtienen las filas que cumplen con la condición.\n",
    "total = data_frame.shape[0] # Se obtiene el total de filas\n",
    "print(f\"{analizados/total*100:.2f}\") # Se muestra el porcentaje de filas que cumplen con la condición"
   ]
  },
  {
   "cell_type": "markdown",
   "metadata": {},
   "source": [
    "### Revisión de Asimetría\n",
    "\n",
    "* **Para calcular la moda:**\n",
    "\n",
    "Utilizamos la biblioteca pandas para calcular la moda de la columna “Age” en un DataFrame llamado data_frame.\n",
    "\n",
    "<code>data_frame.groupby(\"Age\")</code>: Este comando agrupa el DataFrame por la columna “Age”, es decir, crea grupos de filas que tienen el mismo valor en la columna “Age”.\n",
    "\n",
    "<code>[\"Age\"].count()</code>: Luego, para cada grupo creado en el paso anterior, cuenta cuántas filas hay en ese grupo. Esto da como resultado una serie donde el índice son los valores únicos de “Age” y los valores son el número de veces que cada valor de “Age” aparece en el DataFrame.\n",
    "\n",
    "<code>.sort_values(ascending=False)</code>: Este comando ordena los valores de la serie en orden descendente. Por lo tanto, los valores de “Age” que aparecen con más frecuencia estarán en la parte superior.\n",
    "\n",
    "<code>[:1]</code>: Esto selecciona el primer elemento de la serie ordenada, es decir, el valor de “Age” que aparece con más frecuencia.\n",
    "\n",
    "<code>.values[0]</code>: Finalmente, este comando extrae el valor numérico del conteo para la moda.\n",
    "\n",
    "Por lo tanto, moda será el número de veces que el valor más común de “Age” aparece en el DataFrame."
   ]
  },
  {
   "cell_type": "code",
   "execution_count": 43,
   "metadata": {},
   "outputs": [
    {
     "name": "stdout",
     "output_type": "stream",
     "text": [
      "Moda: 23.00 - Mediana: 28.00 - Media: 30.60\n"
     ]
    }
   ],
   "source": [
    "moda = data_frame.groupby(\"Age\")[\"Age\"].count().sort_values(ascending=False)[:1].values[0] # Se obtiene la moda de la columna Age\n",
    "mediana = np.quantile(data_frame.Age, 0.5) # Se obtiene la mediana de la columna Age\n",
    "media = np.mean(data_frame.Age) # Se obtiene la media de la columna Age\n",
    "\n",
    "# Mostramos cada uno de los valores\n",
    "print(f\"Moda: {moda:.2f} - Mediana: {mediana:.2f} - Media: {media:.2f}\")"
   ]
  },
  {
   "cell_type": "markdown",
   "metadata": {},
   "source": [
    "##### Interpretación de la relación\n",
    "El orden que se da en la recta es moda - mediana y media; por lo tanto, existe una **asimetría hacia la derecha (simetría positiva).**\n",
    "![](https://encrypted-tbn0.gstatic.com/images?q=tbn:ANd9GcS2CS82dzN23KbujJcy7S_lf-ghamH3OKkhGA&usqp=CAU)"
   ]
  },
  {
   "cell_type": "code",
   "execution_count": 50,
   "metadata": {},
   "outputs": [
    {
     "data": {
      "image/png": "[encoded data removed]",
      "text/plain": [
       "<Figure size 800x400 with 1 Axes>"
      ]
     },
     "metadata": {},
     "output_type": "display_data"
    }
   ],
   "source": [
    "import random # Librería para generar números aleatorios\n",
    "plt.figure(figsize=(8, 4)) # Se define el tamaño de la figura\n",
    "\n",
    "# Genera 100mil valores aleatorios desde una distribución normal con media 5 y desviación estándar 3\n",
    "random.seed(29) # Se establece una semilla para generar los mismos valores aleatorios\n",
    "random_values = [random.normalvariate(5, 3) for i in range(100000)] # Se generan los valores aleatorios\n",
    "plt.hist(random_values, bins=100) # Se grafica el histograma\n",
    "# Asignamos un titulo al gráfico\n",
    "plt.title(\"Ejemplo de histograma de una Distribución normal\\n$\\mu$ = 5 y $\\sigma$ = 3\", fontsize=14, fontweight=\"bold\")\n",
    "plt.show() # Se muestra el gráfico"
   ]
  },
  {
   "cell_type": "code",
   "execution_count": 51,
   "metadata": {},
   "outputs": [
    {
     "name": "stdout",
     "output_type": "stream",
     "text": [
      "Media: 5.00 - Distribución estándar: 2.99 - Mediana: 5.00\n"
     ]
    }
   ],
   "source": [
    "# Calcular las medias para comprobar\n",
    "print(f\"Media: {np.mean(random_values):.2f} - Distribución estándar: {np.std(random_values):.2f} - Mediana: {np.quantile(random_values, 0.5):.2f}\")"
   ]
  },
  {
   "cell_type": "markdown",
   "metadata": {},
   "source": [
    "## ¿Qué se puede hacer?\n",
    "Intentemos responder a las siguientes preguntas\n",
    "* ¿Quiénes piden más postres, hombres o mujeres?\n",
    "* ¿Cuál es la preferencia de los encuestados, considerando género y tipo de comida?\n",
    "* ¿Quiénes son más indecisos a la hora de escoger, hombres o mujeres?\n",
    "* ¿Quiénes prefieren más la comida occidental, hombres o mujeres?\n",
    "* ¿Cuál es el promedio de edad de las personas que prefieren la comida tradicional?"
   ]
  }
 ],
 "metadata": {
  "kernelspec": {
   "display_name": "Python 3",
   "language": "python",
   "name": "python3"
  },
  "language_info": {
   "codemirror_mode": {
    "name": "ipython",
    "version": 3
   },
   "file_extension": ".py",
   "mimetype": "text/x-python",
   "name": "python",
   "nbconvert_exporter": "python",
   "pygments_lexer": "ipython3",
   "version": "3.11.5"
  }
 },
 "nbformat": 4,
 "nbformat_minor": 2
}
