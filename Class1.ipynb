{
 "cells": [
  {
   "cell_type": "markdown",
   "metadata": {},
   "source": [
    "# Medidas de Tendencia Central\n",
    "\n",
    "Las medidas de tendencia central son estadísticas que nos permiten resumir un conjunto de datos con un solo valor. Las más comunes son la media, la mediana, la varianza y la desviación estándar. Aquí te explico cada una:\n",
    "\n",
    "**Media (μ)**: Es la suma de todos los valores dividida por el número total de valores. Se calcula con la fórmula:\n",
    "\n",
    "$$\n",
    "\\mu = \\frac{\\Sigma x}{N}\n",
    "$$\n",
    "\n",
    "\n",
    "donde Σx es la suma de todos los valores y N es el número total de valores.\n",
    "\n",
    "**Mediana**: Es el valor que divide los datos en dos partes iguales, es decir, el 50% de los datos son menores que la mediana y el otro 50% son mayores. Para calcularla, se ordenan los datos de menor a mayor y se selecciona el valor del medio (o el promedio de los dos valores del medio si el número total de datos es par).\n",
    "\n",
    "**Varianza (σ²)**: Es una medida de dispersión que indica cuánto varían los datos respecto a su media. Se calcula con la fórmula:\n",
    "\n",
    "$$\n",
    "\\sigma^2 = \\frac{\\Sigma (x - \\mu)^2}{N}\n",
    "$$\n",
    "\n",
    "\n",
    "donde x son los valores individuales, μ es la media y N es el número total de valores.\n",
    "\n",
    "**Desviación estándar (σ)**: Es la raíz cuadrada de la varianza y proporciona una medida de dispersión que está en las mismas unidades que los datos. Se calcula con la fórmula:\n",
    "\n",
    "$$\n",
    "\\sigma = \\sqrt{\\sigma^2}\n",
    "$$\n",
    "\n",
    "\n",
    "donde σ² es la varianza.\n",
    "\n",
    "Para calcular estas medidas en Python puedes usar las funciones `numpy.mean()`, `numpy.median()`, `numpy.var()` y `numpy.std()`, respectivamente.\n"
   ]
  },
  {
   "cell_type": "code",
   "execution_count": 26,
   "metadata": {
    "tags": []
   },
   "outputs": [
    {
     "name": "stdout",
     "output_type": "stream",
     "text": [
      "[52, 21, 39, 55, 62, 35, 22, 49, 63, 42, 43, 18, 19, 23, 45, 31, 57, 59, 32, 27, 36, 34, 30, 40, 65, 50, 48, 24, 61, 37]\n"
     ]
    }
   ],
   "source": [
    "import random\n",
    "random.seed(29) # Establecemos la semilla a 29, para que los resultados sean siempre los mismos.\n",
    "edades = range(17, 66) # Creamos una lista con las edades de 17 a 65 años.\n",
    "muestra = random.sample(edades, 30) # Seleccionamos 30 edades de la lista anterior.\n",
    "print(muestra) # Mostramos la muestra."
   ]
  },
  {
   "cell_type": "code",
   "execution_count": 27,
   "metadata": {},
   "outputs": [
    {
     "name": "stdout",
     "output_type": "stream",
     "text": [
      "Media: 40.63\n",
      "Mediana: 39.5\n",
      "Varianza: 200.83\n",
      "Desviación estándar: 14.17\n",
      "Desviación estándar: 14.17\n"
     ]
    }
   ],
   "source": [
    "import numpy as np # Importamos numpy\n",
    "\n",
    "print(f\"Media: {np.mean(muestra):.2f}\") # Mostramos la media de la muestra con dos decimales.\n",
    "print(f\"Mediana: {np.median(muestra)}\") # Mostramos la mediana de la muestra.\n",
    "print(f\"Varianza: {np.var(muestra):.2f}\") # Mostramos la varianza de la muestra con dos decimales.\n",
    "print(f\"Desviación estándar: {np.std(muestra):.2f}\") # Mostramos la desviación estándar de la muestra con dos decimales.\n",
    "print(f\"Desviación estándar: {np.sqrt(np.var(muestra)):.2f}\") # Mostramos la desviación estándar de la muestra con dos decimales. Esta es la forma de calcularla sin usar la función np.std."
   ]
  },
  {
   "cell_type": "code",
   "execution_count": 28,
   "metadata": {},
   "outputs": [
    {
     "name": "stdout",
     "output_type": "stream",
     "text": [
      "Media: 40.63\n",
      "Mediana: 39.5\n",
      "Mediana agrupada: 39.5\n",
      "Varianza: 200.83\n"
     ]
    }
   ],
   "source": [
    "from statistics import mean, median, median_grouped, pvariance # Importamos las funciones de la librería statistics.\n",
    "\n",
    "# Media\n",
    "print(f\"Media: {mean(muestra):.2f}\") # Mostramos la media de la muestra con dos decimales.\n",
    "\n",
    "# Mediana\n",
    "print(f\"Mediana: {median(muestra)}\") # Mostramos la mediana de la muestra.\n",
    "\n",
    "# Mediana agrupada\n",
    "print(f\"Mediana agrupada: {median_grouped(muestra)}\") # Mostramos la mediana agrupada de la muestra.\n",
    "\n",
    "# Varianza\n",
    "print(f\"Varianza: {pvariance(muestra):.2f}\") # Mostramos la varianza de la muestra con dos decimales."
   ]
  },
  {
   "cell_type": "markdown",
   "metadata": {},
   "source": [
    "# Medidas de posición\n",
    "\n",
    "Las medidas de posición son estadísticas que nos permiten dividir un conjunto de datos en partes iguales. Las más comunes son los cuartiles, los deciles y los percentiles. Aquí te explico cada una:\n",
    "\n",
    "**Cuartiles**: Son tres valores que dividen un conjunto de datos en cuatro partes iguales. Cada cuartil representa el 25% de los datos.\n",
    "\n",
    "- **Primer cuartil (Q1)**: El 25% de los datos son menores o iguales a este valor.\n",
    "- **Segundo cuartil (Q2)**: También conocido como la mediana, el 50% de los datos son menores o iguales a este valor.\n",
    "- **Tercer cuartil (Q3)**: El 75% de los datos son menores o iguales a este valor.\n",
    "\n",
    "Para calcular los cuartiles en Python puedes usar la función `numpy.percentile()` con los percentiles 25, 50 y 75 respectivamente.\n",
    "\n",
    "**Deciles**: Son nueve valores que dividen un conjunto de datos en diez partes iguales. Cada decil representa el 10% de los datos.\n",
    "\n",
    "**Percentiles**: Son cien valores que dividen un conjunto de datos en cien partes iguales. Cada percentil representa el 1% de los datos.\n",
    "\n",
    "Para calcular los deciles y percentiles en Python también puedes usar la función `numpy.percentile()` con los percentiles correspondientes.\n"
   ]
  },
  {
   "cell_type": "code",
   "execution_count": 29,
   "metadata": {},
   "outputs": [
    {
     "name": "stdout",
     "output_type": "stream",
     "text": [
      "Tercer cuartil: 51.5\n",
      "Segundo cuartil: 39.5\n",
      "Cuarto decil: 35.6\n",
      "17mo percentil: 23.93\n"
     ]
    }
   ],
   "source": [
    "# Tercer cuartil\n",
    "print(f\"Tercer cuartil: {np.percentile(muestra, 75)}\") # Mostramos el tercer cuartil de la muestra.\n",
    "\n",
    "# Segundo cuartil\n",
    "print(f\"Segundo cuartil: {np.percentile(muestra, 50)}\") # Mostramos el segundo cuartil de la muestra.\n",
    "\n",
    "# Cuarto decil\n",
    "print(f\"Cuarto decil: {np.percentile(muestra, 40)}\") # Mostramos el cuarto decil de la muestra.\n",
    "\n",
    "# Decimoséptimo percentil\n",
    "print(f\"17mo percentil: {np.percentile(muestra, 17)}\") # Mostramos el decimoséptimo percentil de la muestra."
   ]
  },
  {
   "cell_type": "markdown",
   "metadata": {},
   "source": [
    "# Trabajando con dataset\n",
    "\n",
    "## Importar la biblioteca pandas\n",
    "Pandas es una biblioteca de Python que proporciona estructuras de datos y herramientas de análisis de datos. Para usarla, primero debes importarla:\n",
    "\n",
    "```python\n",
    "import pandas as pd\n",
    "```\n",
    "\n",
    "Recordar que se debe instalar pandas y el módulo para leer archivos excel. Esto se debe hacer desde la terminal cmd (Modo Admin).\n",
    "```\n",
    "pip install pandas\n",
    "pip install xlrd\n",
    "```\n",
    "\n",
    "## Leer los datos\n",
    "Pandas puede leer datos en muchos formatos, incluyendo CSV, Excel y SQL. Por ejemplo:\n",
    "\n",
    "```python\n",
    "pd.read_excel('rutal/al/archivo.xls')\n",
    "```\n",
    "## Explorar los datos\n",
    "Puedes obtener una visión general de tus datos usando varias funciones de pandas:\n",
    "\n",
    "**df.head()**: Muestra las primeras filas del DataFrame.\n",
    "\n",
    "**df.info()**: Muestra un resumen conciso de tu DataFrame, incluyendo el número de entradas no nulas y los tipos de datos.\n",
    "\n",
    "**df.describe()**: Muestra estadísticas descriptivas de las columnas numéricas.\n",
    "\n",
    "## Manipular datos\n",
    "Pandas proporciona muchas funciones para manipular tus datos:\n",
    "\n",
    "**df.replace()**: Reemplaza los valores en una columna.\n",
    "\n",
    "```python\n",
    "df['columna'].replace({'valor_original': 'nuevo_valor'})\n",
    "```\n",
    "\n",
    "**df.astype()**: Cambia el tipo de datos de una columna.\n",
    "\n",
    "```python\n",
    "df['columna'].astype('tipo')\n",
    "```\n"
   ]
  },
  {
   "cell_type": "code",
   "execution_count": 30,
   "metadata": {},
   "outputs": [],
   "source": [
    "import pandas as pd # Importamos pandas\n",
    "data = pd.read_excel(\"docs/nutrition_elderly.xls\") # Leemos el archivo excel."
   ]
  },
  {
   "cell_type": "code",
   "execution_count": 31,
   "metadata": {},
   "outputs": [
    {
     "name": "stdout",
     "output_type": "stream",
     "text": [
      "Cantidad de observaciones y características: (226, 13)\n"
     ]
    }
   ],
   "source": [
    "# Cantidad de observaciones y características\n",
    "print(f\"Cantidad de observaciones y características: {data.shape}\") # Mostramos la cantidad de observaciones (Filas) y características (Columnas)."
   ]
  },
  {
   "cell_type": "code",
   "execution_count": 32,
   "metadata": {},
   "outputs": [
    {
     "name": "stdout",
     "output_type": "stream",
     "text": [
      "     gender  situation  tea  coffee  height  weight  age  meat  fish  \\\n",
      "202       1          1    0       2     168      67   69     3     3   \n",
      "135       2          1    0       2     168      63   69     3     3   \n",
      "188       1          2    0       2     182      90   66     5     2   \n",
      "126       1          2    2       3     165      64   78     5     3   \n",
      "136       2          2    2       1     162      55   65     3     3   \n",
      "\n",
      "     raw_fruit  cooked_fruit_veg  chocol  fat  \n",
      "202          5                 5       1    3  \n",
      "135          4                 5       1    3  \n",
      "188          5                 3       1    5  \n",
      "126          5                 5       1    2  \n",
      "136          5                 5       1    3  \n"
     ]
    }
   ],
   "source": [
    "# Mostrar cinco observaciones aleatorias del conjunto de datos.add()\n",
    "print(data.sample(5)) # Mostramos cinco observaciones aleatorias del conjunto de datos."
   ]
  },
  {
   "cell_type": "markdown",
   "metadata": {},
   "source": [
    "# Variables\n",
    "\n",
    "### Existen 2 tipos de variables\n",
    "* Cualitativas\n",
    "* Cuantitativas\n",
    "\n",
    "### Las cuantitativas se dividen en:\n",
    "* Discretas\n",
    "* Continua"
   ]
  },
  {
   "cell_type": "code",
   "execution_count": 33,
   "metadata": {},
   "outputs": [
    {
     "name": "stdout",
     "output_type": "stream",
     "text": [
      "Index(['gender', 'situation', 'tea', 'coffee', 'height', 'weight', 'age',\n",
      "       'meat', 'fish', 'raw_fruit', 'cooked_fruit_veg', 'chocol', 'fat'],\n",
      "      dtype='object')\n"
     ]
    }
   ],
   "source": [
    "# Nombres de las columnas\n",
    "print(data.columns) # Mostramos los nombres de las columnas."
   ]
  },
  {
   "cell_type": "markdown",
   "metadata": {},
   "source": [
    "#### Cualitativas\n",
    "* Gender\n",
    "* Situation\n",
    "* Fat\n",
    "* Meat\n",
    "* Fish\n",
    "* Raw_fruit\n",
    "* Cooked_fruit_veg\n",
    "* Chocol\n",
    "\n",
    "#### Cuantitativa Discreta\n",
    "* Tea\n",
    "* Coffee\n",
    "\n",
    "#### Cuantitativa Continua\n",
    "* Height\n",
    "* Weigth\n",
    "* Age"
   ]
  },
  {
   "cell_type": "code",
   "execution_count": 34,
   "metadata": {},
   "outputs": [
    {
     "name": "stdout",
     "output_type": "stream",
     "text": [
      "<class 'pandas.core.frame.DataFrame'>\n",
      "RangeIndex: 226 entries, 0 to 225\n",
      "Data columns (total 13 columns):\n",
      " #   Column            Non-Null Count  Dtype\n",
      "---  ------            --------------  -----\n",
      " 0   gender            226 non-null    int64\n",
      " 1   situation         226 non-null    int64\n",
      " 2   tea               226 non-null    int64\n",
      " 3   coffee            226 non-null    int64\n",
      " 4   height            226 non-null    int64\n",
      " 5   weight            226 non-null    int64\n",
      " 6   age               226 non-null    int64\n",
      " 7   meat              226 non-null    int64\n",
      " 8   fish              226 non-null    int64\n",
      " 9   raw_fruit         226 non-null    int64\n",
      " 10  cooked_fruit_veg  226 non-null    int64\n",
      " 11  chocol            226 non-null    int64\n",
      " 12  fat               226 non-null    int64\n",
      "dtypes: int64(13)\n",
      "memory usage: 23.1 KB\n",
      "None\n"
     ]
    }
   ],
   "source": [
    "# Información de las columnas disponibles\n",
    "print(data.info()) # Mostramos información de las columnas disponibles."
   ]
  },
  {
   "cell_type": "code",
   "execution_count": 35,
   "metadata": {},
   "outputs": [
    {
     "data": {
      "text/plain": [
       "array([6, 4, 2, 3, 8, 1, 5, 7], dtype=int64)"
      ]
     },
     "execution_count": 35,
     "metadata": {},
     "output_type": "execute_result"
    }
   ],
   "source": [
    "# Obtener valores únicos de la columna\n",
    "data.fat.unique() # Mostramos los valores únicos de la columna fat."
   ]
  },
  {
   "cell_type": "code",
   "execution_count": 36,
   "metadata": {},
   "outputs": [
    {
     "data": {
      "text/plain": [
       "array([2, 1], dtype=int64)"
      ]
     },
     "execution_count": 36,
     "metadata": {},
     "output_type": "execute_result"
    }
   ],
   "source": [
    "# Obtener valores únicos de la columna\n",
    "data.gender.unique() # Mostramos los valores únicos de la columna gender."
   ]
  },
  {
   "cell_type": "markdown",
   "metadata": {},
   "source": [
    "## AnáLisis de Columnas"
   ]
  },
  {
   "cell_type": "code",
   "execution_count": 37,
   "metadata": {},
   "outputs": [
    {
     "data": {
      "text/plain": [
       "count    226.000000\n",
       "mean      74.477876\n",
       "std        6.005327\n",
       "min       65.000000\n",
       "25%       70.000000\n",
       "50%       74.000000\n",
       "75%       78.000000\n",
       "max       91.000000\n",
       "Name: age, dtype: float64"
      ]
     },
     "execution_count": 37,
     "metadata": {},
     "output_type": "execute_result"
    }
   ],
   "source": [
    "# Cálculo de las medidas de tendencia central de la columna age\n",
    "data['age'].describe() # Mostramos las medidas de tendencia central de la columna age."
   ]
  },
  {
   "cell_type": "code",
   "execution_count": 38,
   "metadata": {},
   "outputs": [
    {
     "data": {
      "text/plain": [
       "count    226.000000\n",
       "mean       1.623894\n",
       "std        0.485482\n",
       "min        1.000000\n",
       "25%        1.000000\n",
       "50%        2.000000\n",
       "75%        2.000000\n",
       "max        2.000000\n",
       "Name: gender, dtype: float64"
      ]
     },
     "execution_count": 38,
     "metadata": {},
     "output_type": "execute_result"
    }
   ],
   "source": [
    "# Calculos de las medidas de tendencia central de la columna gender\n",
    "data['gender'].describe() # Mostramos las medidas de tendencia central de la columna gender."
   ]
  },
  {
   "cell_type": "markdown",
   "metadata": {},
   "source": [
    "**Observacion**\n",
    "\n",
    "---\n",
    "\n",
    "Lo anterior no tiene mucho sentido porque la variable género está codificada, porque la variable es cualitativa."
   ]
  },
  {
   "cell_type": "code",
   "execution_count": 39,
   "metadata": {},
   "outputs": [],
   "source": [
    "# Agregamos descripción\n",
    "dict_gender = {1:'Male', 2: 'Female'} # Ocupamos un diccionario para la \"codificación\"\n",
    "data['gender_c'] = data['gender'].replace(dict_gender).astype(\"category\")"
   ]
  },
  {
   "cell_type": "code",
   "execution_count": 40,
   "metadata": {},
   "outputs": [
    {
     "data": {
      "text/plain": [
       "['Female', 'Male']\n",
       "Categories (2, object): ['Female', 'Male']"
      ]
     },
     "execution_count": 40,
     "metadata": {},
     "output_type": "execute_result"
    }
   ],
   "source": [
    "# Mostramos la columna recién creada\n",
    "data.gender_c.unique()"
   ]
  },
  {
   "cell_type": "code",
   "execution_count": 41,
   "metadata": {},
   "outputs": [
    {
     "data": {
      "text/plain": [
       "count        226\n",
       "unique         2\n",
       "top       Female\n",
       "freq         141\n",
       "Name: gender_c, dtype: object"
      ]
     },
     "execution_count": 41,
     "metadata": {},
     "output_type": "execute_result"
    }
   ],
   "source": [
    "# Ahora podemos utlizar la función describe\n",
    "data['gender_c'].describe()"
   ]
  },
  {
   "cell_type": "markdown",
   "metadata": {},
   "source": [
    "Al utilizar la línea de código <code>data['gender_c'].describe()</code>, estás solicitando un resumen estadístico de la columna <code>‘gender_c’</code> en tu DataFrame data.\n",
    "\n",
    "Dado que <code>‘gender_c’</code> es una variable categórica (es decir, no numérica), el método <code>describe()</code> proporcionará un resumen ligeramente diferente al que proporcionaría para una variable numérica. En lugar de calcular medidas como la media y la desviación estándar, <code>describe()</code> proporcionará la siguiente información para una variable categórica:\n",
    "\n",
    "* **count**: el número total de entradas no nulas en la columna.\n",
    "* **unique**: el número de categorías distintas en la columna.\n",
    "* **top**: la categoría que aparece con más frecuencia.\n",
    "* **freq**: la frecuencia de la categoría más común.\n",
    "Por lo tanto, este método te dará una idea rápida de la distribución de las categorías en la columna <code>‘gender_c’</code>."
   ]
  },
  {
   "cell_type": "code",
   "execution_count": 42,
   "metadata": {},
   "outputs": [
    {
     "data": {
      "text/plain": [
       "gender_c\n",
       "Female    141\n",
       "Male       85\n",
       "Name: count, dtype: int64"
      ]
     },
     "execution_count": 42,
     "metadata": {},
     "output_type": "execute_result"
    }
   ],
   "source": [
    "# Construimos una tabla simple de frecuencias relativas\n",
    "data['gender_c'].value_counts()"
   ]
  },
  {
   "cell_type": "code",
   "execution_count": 43,
   "metadata": {},
   "outputs": [
    {
     "data": {
      "text/plain": [
       "(226, 14)"
      ]
     },
     "execution_count": 43,
     "metadata": {},
     "output_type": "execute_result"
    }
   ],
   "source": [
    "# Cantidad de Filas y Columnas\n",
    "data.shape"
   ]
  },
  {
   "cell_type": "code",
   "execution_count": 44,
   "metadata": {},
   "outputs": [
    {
     "data": {
      "text/html": [
       "<div>\n",
       "<style scoped>\n",
       "    .dataframe tbody tr th:only-of-type {\n",
       "        vertical-align: middle;\n",
       "    }\n",
       "\n",
       "    .dataframe tbody tr th {\n",
       "        vertical-align: top;\n",
       "    }\n",
       "\n",
       "    .dataframe thead th {\n",
       "        text-align: right;\n",
       "    }\n",
       "</style>\n",
       "<table border=\"1\" class=\"dataframe\">\n",
       "  <thead>\n",
       "    <tr style=\"text-align: right;\">\n",
       "      <th></th>\n",
       "      <th>gender</th>\n",
       "      <th>situation</th>\n",
       "      <th>tea</th>\n",
       "      <th>coffee</th>\n",
       "      <th>height</th>\n",
       "      <th>weight</th>\n",
       "      <th>age</th>\n",
       "      <th>meat</th>\n",
       "      <th>fish</th>\n",
       "      <th>raw_fruit</th>\n",
       "      <th>cooked_fruit_veg</th>\n",
       "      <th>chocol</th>\n",
       "      <th>fat</th>\n",
       "      <th>gender_c</th>\n",
       "    </tr>\n",
       "  </thead>\n",
       "  <tbody>\n",
       "    <tr>\n",
       "      <th>0</th>\n",
       "      <td>2</td>\n",
       "      <td>1</td>\n",
       "      <td>0</td>\n",
       "      <td>0</td>\n",
       "      <td>151</td>\n",
       "      <td>58</td>\n",
       "      <td>72</td>\n",
       "      <td>4</td>\n",
       "      <td>3</td>\n",
       "      <td>1</td>\n",
       "      <td>4</td>\n",
       "      <td>5</td>\n",
       "      <td>6</td>\n",
       "      <td>Female</td>\n",
       "    </tr>\n",
       "    <tr>\n",
       "      <th>1</th>\n",
       "      <td>2</td>\n",
       "      <td>1</td>\n",
       "      <td>1</td>\n",
       "      <td>1</td>\n",
       "      <td>162</td>\n",
       "      <td>60</td>\n",
       "      <td>68</td>\n",
       "      <td>5</td>\n",
       "      <td>2</td>\n",
       "      <td>5</td>\n",
       "      <td>5</td>\n",
       "      <td>1</td>\n",
       "      <td>4</td>\n",
       "      <td>Female</td>\n",
       "    </tr>\n",
       "    <tr>\n",
       "      <th>2</th>\n",
       "      <td>2</td>\n",
       "      <td>1</td>\n",
       "      <td>0</td>\n",
       "      <td>4</td>\n",
       "      <td>162</td>\n",
       "      <td>75</td>\n",
       "      <td>78</td>\n",
       "      <td>3</td>\n",
       "      <td>1</td>\n",
       "      <td>5</td>\n",
       "      <td>2</td>\n",
       "      <td>5</td>\n",
       "      <td>4</td>\n",
       "      <td>Female</td>\n",
       "    </tr>\n",
       "    <tr>\n",
       "      <th>3</th>\n",
       "      <td>2</td>\n",
       "      <td>1</td>\n",
       "      <td>0</td>\n",
       "      <td>0</td>\n",
       "      <td>154</td>\n",
       "      <td>45</td>\n",
       "      <td>91</td>\n",
       "      <td>0</td>\n",
       "      <td>4</td>\n",
       "      <td>4</td>\n",
       "      <td>0</td>\n",
       "      <td>3</td>\n",
       "      <td>2</td>\n",
       "      <td>Female</td>\n",
       "    </tr>\n",
       "    <tr>\n",
       "      <th>4</th>\n",
       "      <td>2</td>\n",
       "      <td>1</td>\n",
       "      <td>2</td>\n",
       "      <td>1</td>\n",
       "      <td>154</td>\n",
       "      <td>50</td>\n",
       "      <td>65</td>\n",
       "      <td>5</td>\n",
       "      <td>3</td>\n",
       "      <td>5</td>\n",
       "      <td>5</td>\n",
       "      <td>3</td>\n",
       "      <td>2</td>\n",
       "      <td>Female</td>\n",
       "    </tr>\n",
       "  </tbody>\n",
       "</table>\n",
       "</div>"
      ],
      "text/plain": [
       "   gender  situation  tea  coffee  height  weight  age  meat  fish  raw_fruit  \\\n",
       "0       2          1    0       0     151      58   72     4     3          1   \n",
       "1       2          1    1       1     162      60   68     5     2          5   \n",
       "2       2          1    0       4     162      75   78     3     1          5   \n",
       "3       2          1    0       0     154      45   91     0     4          4   \n",
       "4       2          1    2       1     154      50   65     5     3          5   \n",
       "\n",
       "   cooked_fruit_veg  chocol  fat gender_c  \n",
       "0                 4       5    6   Female  \n",
       "1                 5       1    4   Female  \n",
       "2                 2       5    4   Female  \n",
       "3                 0       3    2   Female  \n",
       "4                 5       3    2   Female  "
      ]
     },
     "execution_count": 44,
     "metadata": {},
     "output_type": "execute_result"
    }
   ],
   "source": [
    "# La función head() nos permite ver las primeras observaciones del conjunto de datos.\n",
    "data.head()"
   ]
  },
  {
   "cell_type": "markdown",
   "metadata": {},
   "source": [
    "## Desafío\n",
    "Termine usted de transformar todas las otras variables del tipo cualitativas considerando la descripción de la data desde el enlace que le han entregado.\n",
    "\n",
    "* Situation\n",
    "* Fat\n",
    "* Meat\n",
    "* Fish\n",
    "* Raw_fruit\n",
    "* Cooked_fruit_veg\n",
    "* Chocol"
   ]
  },
  {
   "cell_type": "code",
   "execution_count": 45,
   "metadata": {},
   "outputs": [],
   "source": [
    "dict_fat = {1: 'Buteer', 2: 'Margarine', 3: 'Peanut oil', 4: 'Sunflower oil',\n",
    "            5: 'Olive oil', 6: 'Mix of vegetable oils', 7: 'Colza oil', 8: 'Duck of goose fat'}\n",
    "\n",
    "dict_mix = {0: 'Never', 1: 'Less than once a week', 2: 'Once a week',\n",
    "            3: '2/3 times a week', 4: '4/6 times a week', 5: 'Every day'}\n",
    "\n",
    "columns = ['fat', 'meat', 'fish', 'raw_fruit', 'cooked_fruit_veg', 'chocol']\n",
    "\n",
    "# Definimos una función para añadir categorías a las columnas\n",
    "def add_categories(column: str, dictionary: dict, data: pd.DataFrame, columns: np.array):\n",
    "    column_name = columns[i] + '_c'\n",
    "    data[column_name] = data[column].replace(dictionary).astype(\"category\")\n",
    "    return data\n",
    "\n",
    "# Agregamos las columnas al DataFrame\n",
    "dictionaries = [dict_fat, dict_mix]\n",
    "for i in range(6):\n",
    "    data = add_categories(columns[i], dictionaries[0] if i == 0 else dictionaries[1], data, columns)"
   ]
  },
  {
   "cell_type": "code",
   "execution_count": 46,
   "metadata": {},
   "outputs": [
    {
     "data": {
      "text/plain": [
       "Index(['gender', 'situation', 'tea', 'coffee', 'height', 'weight', 'age',\n",
       "       'meat', 'fish', 'raw_fruit', 'cooked_fruit_veg', 'chocol', 'fat',\n",
       "       'gender_c', 'fat_c', 'meat_c', 'fish_c', 'raw_fruit_c',\n",
       "       'cooked_fruit_veg_c', 'chocol_c'],\n",
       "      dtype='object')"
      ]
     },
     "execution_count": 46,
     "metadata": {},
     "output_type": "execute_result"
    }
   ],
   "source": [
    "# Mostramos las columnas recién creadas\n",
    "data.columns"
   ]
  },
  {
   "cell_type": "code",
   "execution_count": 47,
   "metadata": {},
   "outputs": [
    {
     "data": {
      "text/html": [
       "<div>\n",
       "<style scoped>\n",
       "    .dataframe tbody tr th:only-of-type {\n",
       "        vertical-align: middle;\n",
       "    }\n",
       "\n",
       "    .dataframe tbody tr th {\n",
       "        vertical-align: top;\n",
       "    }\n",
       "\n",
       "    .dataframe thead th {\n",
       "        text-align: right;\n",
       "    }\n",
       "</style>\n",
       "<table border=\"1\" class=\"dataframe\">\n",
       "  <thead>\n",
       "    <tr style=\"text-align: right;\">\n",
       "      <th></th>\n",
       "      <th>gender</th>\n",
       "      <th>situation</th>\n",
       "      <th>tea</th>\n",
       "      <th>coffee</th>\n",
       "      <th>height</th>\n",
       "      <th>weight</th>\n",
       "      <th>age</th>\n",
       "      <th>meat</th>\n",
       "      <th>fish</th>\n",
       "      <th>raw_fruit</th>\n",
       "      <th>cooked_fruit_veg</th>\n",
       "      <th>chocol</th>\n",
       "      <th>fat</th>\n",
       "      <th>gender_c</th>\n",
       "      <th>fat_c</th>\n",
       "      <th>meat_c</th>\n",
       "      <th>fish_c</th>\n",
       "      <th>raw_fruit_c</th>\n",
       "      <th>cooked_fruit_veg_c</th>\n",
       "      <th>chocol_c</th>\n",
       "    </tr>\n",
       "  </thead>\n",
       "  <tbody>\n",
       "    <tr>\n",
       "      <th>23</th>\n",
       "      <td>1</td>\n",
       "      <td>1</td>\n",
       "      <td>0</td>\n",
       "      <td>4</td>\n",
       "      <td>168</td>\n",
       "      <td>90</td>\n",
       "      <td>73</td>\n",
       "      <td>3</td>\n",
       "      <td>2</td>\n",
       "      <td>4</td>\n",
       "      <td>5</td>\n",
       "      <td>0</td>\n",
       "      <td>3</td>\n",
       "      <td>Male</td>\n",
       "      <td>Peanut oil</td>\n",
       "      <td>2/3 times a week</td>\n",
       "      <td>Once a week</td>\n",
       "      <td>4/6 times a week</td>\n",
       "      <td>Every day</td>\n",
       "      <td>Never</td>\n",
       "    </tr>\n",
       "    <tr>\n",
       "      <th>122</th>\n",
       "      <td>2</td>\n",
       "      <td>1</td>\n",
       "      <td>0</td>\n",
       "      <td>3</td>\n",
       "      <td>150</td>\n",
       "      <td>56</td>\n",
       "      <td>77</td>\n",
       "      <td>4</td>\n",
       "      <td>2</td>\n",
       "      <td>2</td>\n",
       "      <td>5</td>\n",
       "      <td>0</td>\n",
       "      <td>3</td>\n",
       "      <td>Female</td>\n",
       "      <td>Peanut oil</td>\n",
       "      <td>4/6 times a week</td>\n",
       "      <td>Once a week</td>\n",
       "      <td>Once a week</td>\n",
       "      <td>Every day</td>\n",
       "      <td>Never</td>\n",
       "    </tr>\n",
       "    <tr>\n",
       "      <th>176</th>\n",
       "      <td>2</td>\n",
       "      <td>2</td>\n",
       "      <td>0</td>\n",
       "      <td>2</td>\n",
       "      <td>162</td>\n",
       "      <td>71</td>\n",
       "      <td>73</td>\n",
       "      <td>5</td>\n",
       "      <td>3</td>\n",
       "      <td>5</td>\n",
       "      <td>5</td>\n",
       "      <td>0</td>\n",
       "      <td>8</td>\n",
       "      <td>Female</td>\n",
       "      <td>Duck of goose fat</td>\n",
       "      <td>Every day</td>\n",
       "      <td>2/3 times a week</td>\n",
       "      <td>Every day</td>\n",
       "      <td>Every day</td>\n",
       "      <td>Never</td>\n",
       "    </tr>\n",
       "    <tr>\n",
       "      <th>172</th>\n",
       "      <td>2</td>\n",
       "      <td>1</td>\n",
       "      <td>0</td>\n",
       "      <td>5</td>\n",
       "      <td>155</td>\n",
       "      <td>57</td>\n",
       "      <td>69</td>\n",
       "      <td>2</td>\n",
       "      <td>1</td>\n",
       "      <td>2</td>\n",
       "      <td>4</td>\n",
       "      <td>5</td>\n",
       "      <td>4</td>\n",
       "      <td>Female</td>\n",
       "      <td>Sunflower oil</td>\n",
       "      <td>Once a week</td>\n",
       "      <td>Less than once a week</td>\n",
       "      <td>Once a week</td>\n",
       "      <td>4/6 times a week</td>\n",
       "      <td>Every day</td>\n",
       "    </tr>\n",
       "    <tr>\n",
       "      <th>82</th>\n",
       "      <td>2</td>\n",
       "      <td>1</td>\n",
       "      <td>0</td>\n",
       "      <td>0</td>\n",
       "      <td>162</td>\n",
       "      <td>58</td>\n",
       "      <td>74</td>\n",
       "      <td>3</td>\n",
       "      <td>2</td>\n",
       "      <td>1</td>\n",
       "      <td>5</td>\n",
       "      <td>0</td>\n",
       "      <td>4</td>\n",
       "      <td>Female</td>\n",
       "      <td>Sunflower oil</td>\n",
       "      <td>2/3 times a week</td>\n",
       "      <td>Once a week</td>\n",
       "      <td>Less than once a week</td>\n",
       "      <td>Every day</td>\n",
       "      <td>Never</td>\n",
       "    </tr>\n",
       "    <tr>\n",
       "      <th>198</th>\n",
       "      <td>1</td>\n",
       "      <td>2</td>\n",
       "      <td>0</td>\n",
       "      <td>2</td>\n",
       "      <td>168</td>\n",
       "      <td>67</td>\n",
       "      <td>73</td>\n",
       "      <td>4</td>\n",
       "      <td>3</td>\n",
       "      <td>5</td>\n",
       "      <td>5</td>\n",
       "      <td>0</td>\n",
       "      <td>4</td>\n",
       "      <td>Male</td>\n",
       "      <td>Sunflower oil</td>\n",
       "      <td>4/6 times a week</td>\n",
       "      <td>2/3 times a week</td>\n",
       "      <td>Every day</td>\n",
       "      <td>Every day</td>\n",
       "      <td>Never</td>\n",
       "    </tr>\n",
       "  </tbody>\n",
       "</table>\n",
       "</div>"
      ],
      "text/plain": [
       "     gender  situation  tea  coffee  height  weight  age  meat  fish  \\\n",
       "23        1          1    0       4     168      90   73     3     2   \n",
       "122       2          1    0       3     150      56   77     4     2   \n",
       "176       2          2    0       2     162      71   73     5     3   \n",
       "172       2          1    0       5     155      57   69     2     1   \n",
       "82        2          1    0       0     162      58   74     3     2   \n",
       "198       1          2    0       2     168      67   73     4     3   \n",
       "\n",
       "     raw_fruit  cooked_fruit_veg  chocol  fat gender_c              fat_c  \\\n",
       "23           4                 5       0    3     Male         Peanut oil   \n",
       "122          2                 5       0    3   Female         Peanut oil   \n",
       "176          5                 5       0    8   Female  Duck of goose fat   \n",
       "172          2                 4       5    4   Female      Sunflower oil   \n",
       "82           1                 5       0    4   Female      Sunflower oil   \n",
       "198          5                 5       0    4     Male      Sunflower oil   \n",
       "\n",
       "               meat_c                 fish_c            raw_fruit_c  \\\n",
       "23   2/3 times a week            Once a week       4/6 times a week   \n",
       "122  4/6 times a week            Once a week            Once a week   \n",
       "176         Every day       2/3 times a week              Every day   \n",
       "172       Once a week  Less than once a week            Once a week   \n",
       "82   2/3 times a week            Once a week  Less than once a week   \n",
       "198  4/6 times a week       2/3 times a week              Every day   \n",
       "\n",
       "    cooked_fruit_veg_c   chocol_c  \n",
       "23           Every day      Never  \n",
       "122          Every day      Never  \n",
       "176          Every day      Never  \n",
       "172   4/6 times a week  Every day  \n",
       "82           Every day      Never  \n",
       "198          Every day      Never  "
      ]
     },
     "execution_count": 47,
     "metadata": {},
     "output_type": "execute_result"
    }
   ],
   "source": [
    "# Mostramos 6 observaciones aleatorias del conjunto de datos.\n",
    "data.sample(6)"
   ]
  },
  {
   "cell_type": "markdown",
   "metadata": {},
   "source": [
    "## Cálculos Estadísticos"
   ]
  },
  {
   "cell_type": "code",
   "execution_count": 53,
   "metadata": {},
   "outputs": [],
   "source": [
    "# Definimos una función para obtener los datos estadísticos y la tabla de frecuencias\n",
    "def column_review(columns: str):\n",
    "    print(f\"Estadísticos de la columna {columns}:\")\n",
    "    print(\"-\"*20)\n",
    "    display(data[columns].describe())\n",
    "    print(\"-\"*20)\n",
    "    print(f\"Tabla de frecuencias\\n\" + \"-\"*20)\n",
    "    display(data[columns].value_counts())\n",
    "    print(\"*\"*20 + \"\\n\")"
   ]
  },
  {
   "cell_type": "code",
   "execution_count": 54,
   "metadata": {},
   "outputs": [
    {
     "name": "stdout",
     "output_type": "stream",
     "text": [
      "Estadísticos de la columna age:\n",
      "--------------------\n"
     ]
    },
    {
     "data": {
      "text/plain": [
       "count    226.000000\n",
       "mean      74.477876\n",
       "std        6.005327\n",
       "min       65.000000\n",
       "25%       70.000000\n",
       "50%       74.000000\n",
       "75%       78.000000\n",
       "max       91.000000\n",
       "Name: age, dtype: float64"
      ]
     },
     "metadata": {},
     "output_type": "display_data"
    },
    {
     "name": "stdout",
     "output_type": "stream",
     "text": [
      "--------------------\n",
      "Tabla de frecuencias\n",
      "--------------------\n"
     ]
    },
    {
     "data": {
      "text/plain": [
       "age\n",
       "78    18\n",
       "74    17\n",
       "69    17\n",
       "73    16\n",
       "76    15\n",
       "72    14\n",
       "71    13\n",
       "70    13\n",
       "75    12\n",
       "77    12\n",
       "67    11\n",
       "66    10\n",
       "68     8\n",
       "79     7\n",
       "65     6\n",
       "84     5\n",
       "85     5\n",
       "82     4\n",
       "81     4\n",
       "89     4\n",
       "87     3\n",
       "80     3\n",
       "91     2\n",
       "83     2\n",
       "88     2\n",
       "86     2\n",
       "90     1\n",
       "Name: count, dtype: int64"
      ]
     },
     "metadata": {},
     "output_type": "display_data"
    },
    {
     "name": "stdout",
     "output_type": "stream",
     "text": [
      "********************\n",
      "\n",
      "Estadísticos de la columna meat:\n",
      "--------------------\n"
     ]
    },
    {
     "data": {
      "text/plain": [
       "count    226.000000\n",
       "mean       3.747788\n",
       "std        0.981210\n",
       "min        0.000000\n",
       "25%        3.000000\n",
       "50%        4.000000\n",
       "75%        5.000000\n",
       "max        5.000000\n",
       "Name: meat, dtype: float64"
      ]
     },
     "metadata": {},
     "output_type": "display_data"
    },
    {
     "name": "stdout",
     "output_type": "stream",
     "text": [
      "--------------------\n",
      "Tabla de frecuencias\n",
      "--------------------\n"
     ]
    },
    {
     "data": {
      "text/plain": [
       "meat\n",
       "3    83\n",
       "4    67\n",
       "5    61\n",
       "2    11\n",
       "1     3\n",
       "0     1\n",
       "Name: count, dtype: int64"
      ]
     },
     "metadata": {},
     "output_type": "display_data"
    },
    {
     "name": "stdout",
     "output_type": "stream",
     "text": [
      "********************\n",
      "\n",
      "Estadísticos de la columna fish:\n",
      "--------------------\n"
     ]
    },
    {
     "data": {
      "text/plain": [
       "count    226.000000\n",
       "mean       2.619469\n",
       "std        0.922013\n",
       "min        0.000000\n",
       "25%        2.000000\n",
       "50%        3.000000\n",
       "75%        3.000000\n",
       "max        5.000000\n",
       "Name: fish, dtype: float64"
      ]
     },
     "metadata": {},
     "output_type": "display_data"
    },
    {
     "name": "stdout",
     "output_type": "stream",
     "text": [
      "--------------------\n",
      "Tabla de frecuencias\n",
      "--------------------\n"
     ]
    },
    {
     "data": {
      "text/plain": [
       "fish\n",
       "3    118\n",
       "2     61\n",
       "1     21\n",
       "4     15\n",
       "5      7\n",
       "0      4\n",
       "Name: count, dtype: int64"
      ]
     },
     "metadata": {},
     "output_type": "display_data"
    },
    {
     "name": "stdout",
     "output_type": "stream",
     "text": [
      "********************\n",
      "\n",
      "Estadísticos de la columna raw_fruit:\n",
      "--------------------\n"
     ]
    },
    {
     "data": {
      "text/plain": [
       "count    226.000000\n",
       "mean       4.486726\n",
       "std        1.092317\n",
       "min        0.000000\n",
       "25%        5.000000\n",
       "50%        5.000000\n",
       "75%        5.000000\n",
       "max        5.000000\n",
       "Name: raw_fruit, dtype: float64"
      ]
     },
     "metadata": {},
     "output_type": "display_data"
    },
    {
     "name": "stdout",
     "output_type": "stream",
     "text": [
      "--------------------\n",
      "Tabla de frecuencias\n",
      "--------------------\n"
     ]
    },
    {
     "data": {
      "text/plain": [
       "raw_fruit\n",
       "5    172\n",
       "4     22\n",
       "3     14\n",
       "1      8\n",
       "2      8\n",
       "0      2\n",
       "Name: count, dtype: int64"
      ]
     },
     "metadata": {},
     "output_type": "display_data"
    },
    {
     "name": "stdout",
     "output_type": "stream",
     "text": [
      "********************\n",
      "\n",
      "Estadísticos de la columna cooked_fruit_veg:\n",
      "--------------------\n"
     ]
    },
    {
     "data": {
      "text/plain": [
       "count    226.000000\n",
       "mean       4.384956\n",
       "std        1.014361\n",
       "min        0.000000\n",
       "25%        4.000000\n",
       "50%        5.000000\n",
       "75%        5.000000\n",
       "max        5.000000\n",
       "Name: cooked_fruit_veg, dtype: float64"
      ]
     },
     "metadata": {},
     "output_type": "display_data"
    },
    {
     "name": "stdout",
     "output_type": "stream",
     "text": [
      "--------------------\n",
      "Tabla de frecuencias\n",
      "--------------------\n"
     ]
    },
    {
     "data": {
      "text/plain": [
       "cooked_fruit_veg\n",
       "5    148\n",
       "4     36\n",
       "3     30\n",
       "2      7\n",
       "1      3\n",
       "0      2\n",
       "Name: count, dtype: int64"
      ]
     },
     "metadata": {},
     "output_type": "display_data"
    },
    {
     "name": "stdout",
     "output_type": "stream",
     "text": [
      "********************\n",
      "\n",
      "Estadísticos de la columna chocol:\n",
      "--------------------\n"
     ]
    },
    {
     "data": {
      "text/plain": [
       "count    226.000000\n",
       "mean       2.340708\n",
       "std        1.985241\n",
       "min        0.000000\n",
       "25%        1.000000\n",
       "50%        2.000000\n",
       "75%        5.000000\n",
       "max        5.000000\n",
       "Name: chocol, dtype: float64"
      ]
     },
     "metadata": {},
     "output_type": "display_data"
    },
    {
     "name": "stdout",
     "output_type": "stream",
     "text": [
      "--------------------\n",
      "Tabla de frecuencias\n",
      "--------------------\n"
     ]
    },
    {
     "data": {
      "text/plain": [
       "chocol\n",
       "5    65\n",
       "1    62\n",
       "0    50\n",
       "3    22\n",
       "2    16\n",
       "4    11\n",
       "Name: count, dtype: int64"
      ]
     },
     "metadata": {},
     "output_type": "display_data"
    },
    {
     "name": "stdout",
     "output_type": "stream",
     "text": [
      "********************\n",
      "\n",
      "Estadísticos de la columna fat:\n",
      "--------------------\n"
     ]
    },
    {
     "data": {
      "text/plain": [
       "count    226.000000\n",
       "mean       3.814159\n",
       "std        1.473009\n",
       "min        1.000000\n",
       "25%        3.000000\n",
       "50%        4.000000\n",
       "75%        5.000000\n",
       "max        8.000000\n",
       "Name: fat, dtype: float64"
      ]
     },
     "metadata": {},
     "output_type": "display_data"
    },
    {
     "name": "stdout",
     "output_type": "stream",
     "text": [
      "--------------------\n",
      "Tabla de frecuencias\n",
      "--------------------\n"
     ]
    },
    {
     "data": {
      "text/plain": [
       "fat\n",
       "4    68\n",
       "3    48\n",
       "5    40\n",
       "2    27\n",
       "6    23\n",
       "1    15\n",
       "8     4\n",
       "7     1\n",
       "Name: count, dtype: int64"
      ]
     },
     "metadata": {},
     "output_type": "display_data"
    },
    {
     "name": "stdout",
     "output_type": "stream",
     "text": [
      "********************\n",
      "\n",
      "Estadísticos de la columna gender_c:\n",
      "--------------------\n"
     ]
    },
    {
     "data": {
      "text/plain": [
       "count        226\n",
       "unique         2\n",
       "top       Female\n",
       "freq         141\n",
       "Name: gender_c, dtype: object"
      ]
     },
     "metadata": {},
     "output_type": "display_data"
    },
    {
     "name": "stdout",
     "output_type": "stream",
     "text": [
      "--------------------\n",
      "Tabla de frecuencias\n",
      "--------------------\n"
     ]
    },
    {
     "data": {
      "text/plain": [
       "gender_c\n",
       "Female    141\n",
       "Male       85\n",
       "Name: count, dtype: int64"
      ]
     },
     "metadata": {},
     "output_type": "display_data"
    },
    {
     "name": "stdout",
     "output_type": "stream",
     "text": [
      "********************\n",
      "\n",
      "Estadísticos de la columna fat_c:\n",
      "--------------------\n"
     ]
    },
    {
     "data": {
      "text/plain": [
       "count               226\n",
       "unique                8\n",
       "top       Sunflower oil\n",
       "freq                 68\n",
       "Name: fat_c, dtype: object"
      ]
     },
     "metadata": {},
     "output_type": "display_data"
    },
    {
     "name": "stdout",
     "output_type": "stream",
     "text": [
      "--------------------\n",
      "Tabla de frecuencias\n",
      "--------------------\n"
     ]
    },
    {
     "data": {
      "text/plain": [
       "fat_c\n",
       "Sunflower oil            68\n",
       "Peanut oil               48\n",
       "Olive oil                40\n",
       "Margarine                27\n",
       "Mix of vegetable oils    23\n",
       "Buteer                   15\n",
       "Duck of goose fat         4\n",
       "Colza oil                 1\n",
       "Name: count, dtype: int64"
      ]
     },
     "metadata": {},
     "output_type": "display_data"
    },
    {
     "name": "stdout",
     "output_type": "stream",
     "text": [
      "********************\n",
      "\n",
      "Estadísticos de la columna meat_c:\n",
      "--------------------\n"
     ]
    },
    {
     "data": {
      "text/plain": [
       "count                  226\n",
       "unique                   6\n",
       "top       2/3 times a week\n",
       "freq                    83\n",
       "Name: meat_c, dtype: object"
      ]
     },
     "metadata": {},
     "output_type": "display_data"
    },
    {
     "name": "stdout",
     "output_type": "stream",
     "text": [
      "--------------------\n",
      "Tabla de frecuencias\n",
      "--------------------\n"
     ]
    },
    {
     "data": {
      "text/plain": [
       "meat_c\n",
       "2/3 times a week         83\n",
       "4/6 times a week         67\n",
       "Every day                61\n",
       "Once a week              11\n",
       "Less than once a week     3\n",
       "Never                     1\n",
       "Name: count, dtype: int64"
      ]
     },
     "metadata": {},
     "output_type": "display_data"
    },
    {
     "name": "stdout",
     "output_type": "stream",
     "text": [
      "********************\n",
      "\n",
      "Estadísticos de la columna fish_c:\n",
      "--------------------\n"
     ]
    },
    {
     "data": {
      "text/plain": [
       "count                  226\n",
       "unique                   6\n",
       "top       2/3 times a week\n",
       "freq                   118\n",
       "Name: fish_c, dtype: object"
      ]
     },
     "metadata": {},
     "output_type": "display_data"
    },
    {
     "name": "stdout",
     "output_type": "stream",
     "text": [
      "--------------------\n",
      "Tabla de frecuencias\n",
      "--------------------\n"
     ]
    },
    {
     "data": {
      "text/plain": [
       "fish_c\n",
       "2/3 times a week         118\n",
       "Once a week               61\n",
       "Less than once a week     21\n",
       "4/6 times a week          15\n",
       "Every day                  7\n",
       "Never                      4\n",
       "Name: count, dtype: int64"
      ]
     },
     "metadata": {},
     "output_type": "display_data"
    },
    {
     "name": "stdout",
     "output_type": "stream",
     "text": [
      "********************\n",
      "\n",
      "Estadísticos de la columna raw_fruit_c:\n",
      "--------------------\n"
     ]
    },
    {
     "data": {
      "text/plain": [
       "count           226\n",
       "unique            6\n",
       "top       Every day\n",
       "freq            172\n",
       "Name: raw_fruit_c, dtype: object"
      ]
     },
     "metadata": {},
     "output_type": "display_data"
    },
    {
     "name": "stdout",
     "output_type": "stream",
     "text": [
      "--------------------\n",
      "Tabla de frecuencias\n",
      "--------------------\n"
     ]
    },
    {
     "data": {
      "text/plain": [
       "raw_fruit_c\n",
       "Every day                172\n",
       "4/6 times a week          22\n",
       "2/3 times a week          14\n",
       "Less than once a week      8\n",
       "Once a week                8\n",
       "Never                      2\n",
       "Name: count, dtype: int64"
      ]
     },
     "metadata": {},
     "output_type": "display_data"
    },
    {
     "name": "stdout",
     "output_type": "stream",
     "text": [
      "********************\n",
      "\n",
      "Estadísticos de la columna cooked_fruit_veg_c:\n",
      "--------------------\n"
     ]
    },
    {
     "data": {
      "text/plain": [
       "count           226\n",
       "unique            6\n",
       "top       Every day\n",
       "freq            148\n",
       "Name: cooked_fruit_veg_c, dtype: object"
      ]
     },
     "metadata": {},
     "output_type": "display_data"
    },
    {
     "name": "stdout",
     "output_type": "stream",
     "text": [
      "--------------------\n",
      "Tabla de frecuencias\n",
      "--------------------\n"
     ]
    },
    {
     "data": {
      "text/plain": [
       "cooked_fruit_veg_c\n",
       "Every day                148\n",
       "4/6 times a week          36\n",
       "2/3 times a week          30\n",
       "Once a week                7\n",
       "Less than once a week      3\n",
       "Never                      2\n",
       "Name: count, dtype: int64"
      ]
     },
     "metadata": {},
     "output_type": "display_data"
    },
    {
     "name": "stdout",
     "output_type": "stream",
     "text": [
      "********************\n",
      "\n",
      "Estadísticos de la columna chocol_c:\n",
      "--------------------\n"
     ]
    },
    {
     "data": {
      "text/plain": [
       "count           226\n",
       "unique            6\n",
       "top       Every day\n",
       "freq             65\n",
       "Name: chocol_c, dtype: object"
      ]
     },
     "metadata": {},
     "output_type": "display_data"
    },
    {
     "name": "stdout",
     "output_type": "stream",
     "text": [
      "--------------------\n",
      "Tabla de frecuencias\n",
      "--------------------\n"
     ]
    },
    {
     "data": {
      "text/plain": [
       "chocol_c\n",
       "Every day                65\n",
       "Less than once a week    62\n",
       "Never                    50\n",
       "2/3 times a week         22\n",
       "Once a week              16\n",
       "4/6 times a week         11\n",
       "Name: count, dtype: int64"
      ]
     },
     "metadata": {},
     "output_type": "display_data"
    },
    {
     "name": "stdout",
     "output_type": "stream",
     "text": [
      "********************\n",
      "\n"
     ]
    }
   ],
   "source": [
    "# Impresión de los datos estadísticos y la tabla de frecuencias\n",
    "for column in data.columns[6:]:\n",
    "    column_review(column + \"_c\")"
   ]
  }
 ],
 "metadata": {
  "kernelspec": {
   "display_name": "Python 3",
   "language": "python",
   "name": "python3"
  },
  "language_info": {
   "codemirror_mode": {
    "name": "ipython",
    "version": 3
   },
   "file_extension": ".py",
   "mimetype": "text/x-python",
   "name": "python",
   "nbconvert_exporter": "python",
   "pygments_lexer": "ipython3",
   "version": "3.11.5"
  }
 },
 "nbformat": 4,
 "nbformat_minor": 2
}
