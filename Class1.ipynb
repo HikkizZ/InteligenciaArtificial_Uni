{
 "cells": [
  {
   "cell_type": "markdown",
   "metadata": {},
   "source": [
    "# Medidas de Tendencia Central\n",
    "\n",
    "Las medidas de tendencia central son estadísticas que nos permiten resumir un conjunto de datos con un solo valor. Las más comunes son la media, la mediana, la varianza y la desviación estándar. Aquí te explico cada una:\n",
    "\n",
    "**Media (μ)**: Es la suma de todos los valores dividida por el número total de valores. Se calcula con la fórmula:\n",
    "\n",
    "$$\n",
    "\\mu = \\frac{\\Sigma x}{N}\n",
    "$$\n",
    "\n",
    "\n",
    "donde Σx es la suma de todos los valores y N es el número total de valores.\n",
    "\n",
    "**Mediana**: Es el valor que divide los datos en dos partes iguales, es decir, el 50% de los datos son menores que la mediana y el otro 50% son mayores. Para calcularla, se ordenan los datos de menor a mayor y se selecciona el valor del medio (o el promedio de los dos valores del medio si el número total de datos es par).\n",
    "\n",
    "**Varianza (σ²)**: Es una medida de dispersión que indica cuánto varían los datos respecto a su media. Se calcula con la fórmula:\n",
    "\n",
    "$$\n",
    "\\sigma^2 = \\frac{\\Sigma (x - \\mu)^2}{N}\n",
    "$$\n",
    "\n",
    "\n",
    "donde x son los valores individuales, μ es la media y N es el número total de valores.\n",
    "\n",
    "**Desviación estándar (σ)**: Es la raíz cuadrada de la varianza y proporciona una medida de dispersión que está en las mismas unidades que los datos. Se calcula con la fórmula:\n",
    "\n",
    "$$\n",
    "\\sigma = \\sqrt{\\sigma^2}\n",
    "$$\n",
    "\n",
    "\n",
    "donde σ² es la varianza.\n",
    "\n",
    "Para calcular estas medidas en Python puedes usar las funciones `numpy.mean()`, `numpy.median()`, `numpy.var()` y `numpy.std()`, respectivamente.\n"
   ]
  },
  {
   "cell_type": "code",
   "execution_count": 2,
   "metadata": {
    "tags": []
   },
   "outputs": [
    {
     "name": "stdout",
     "output_type": "stream",
     "text": [
      "[52, 21, 39, 55, 62, 35, 22, 49, 63, 42, 43, 18, 19, 23, 45, 31, 57, 59, 32, 27, 36, 34, 30, 40, 65, 50, 48, 24, 61, 37]\n"
     ]
    }
   ],
   "source": [
    "import random\n",
    "random.seed(29) # Establecemos la semilla a 29, para que los resultados sean siempre los mismos.\n",
    "edades = range(17, 66) # Creamos una lista con las edades de 17 a 65 años.\n",
    "muestra = random.sample(edades, 30) # Seleccionamos 30 edades de la lista anterior.\n",
    "print(muestra) # Mostramos la muestra."
   ]
  },
  {
   "cell_type": "code",
   "execution_count": 3,
   "metadata": {},
   "outputs": [
    {
     "name": "stdout",
     "output_type": "stream",
     "text": [
      "Media: 40.63\n",
      "Mediana: 39.5\n",
      "Varianza: 200.83\n",
      "Desviación estándar: 14.17\n",
      "Desviación estándar: 14.17\n"
     ]
    }
   ],
   "source": [
    "import numpy as np # Importamos numpy\n",
    "\n",
    "print(f\"Media: {np.mean(muestra):.2f}\") # Mostramos la media de la muestra con dos decimales.\n",
    "print(f\"Mediana: {np.median(muestra)}\") # Mostramos la mediana de la muestra.\n",
    "print(f\"Varianza: {np.var(muestra):.2f}\") # Mostramos la varianza de la muestra con dos decimales.\n",
    "print(f\"Desviación estándar: {np.std(muestra):.2f}\") # Mostramos la desviación estándar de la muestra con dos decimales.\n",
    "print(f\"Desviación estándar: {np.sqrt(np.var(muestra)):.2f}\") # Mostramos la desviación estándar de la muestra con dos decimales. Esta es la forma de calcularla sin usar la función np.std."
   ]
  },
  {
   "cell_type": "code",
   "execution_count": 8,
   "metadata": {},
   "outputs": [
    {
     "name": "stdout",
     "output_type": "stream",
     "text": [
      "Media: 40.63\n",
      "Mediana: 39.5\n",
      "Mediana agrupada: 39.5\n",
      "Varianza: 200.83\n"
     ]
    }
   ],
   "source": [
    "from statistics import mean, median, median_grouped, pvariance # Importamos las funciones de la librería statistics.\n",
    "\n",
    "# Media\n",
    "print(f\"Media: {mean(muestra):.2f}\") # Mostramos la media de la muestra con dos decimales.\n",
    "\n",
    "# Mediana\n",
    "print(f\"Mediana: {median(muestra)}\") # Mostramos la mediana de la muestra.\n",
    "\n",
    "# Mediana agrupada\n",
    "print(f\"Mediana agrupada: {median_grouped(muestra)}\") # Mostramos la mediana agrupada de la muestra.\n",
    "\n",
    "# Varianza\n",
    "print(f\"Varianza: {pvariance(muestra):.2f}\") # Mostramos la varianza de la muestra con dos decimales."
   ]
  },
  {
   "cell_type": "markdown",
   "metadata": {},
   "source": [
    "# Medidas de posición\n",
    "\n",
    "Las medidas de posición son estadísticas que nos permiten dividir un conjunto de datos en partes iguales. Las más comunes son los cuartiles, los deciles y los percentiles. Aquí te explico cada una:\n",
    "\n",
    "**Cuartiles**: Son tres valores que dividen un conjunto de datos en cuatro partes iguales. Cada cuartil representa el 25% de los datos.\n",
    "\n",
    "- **Primer cuartil (Q1)**: El 25% de los datos son menores o iguales a este valor.\n",
    "- **Segundo cuartil (Q2)**: También conocido como la mediana, el 50% de los datos son menores o iguales a este valor.\n",
    "- **Tercer cuartil (Q3)**: El 75% de los datos son menores o iguales a este valor.\n",
    "\n",
    "Para calcular los cuartiles en Python puedes usar la función `numpy.percentile()` con los percentiles 25, 50 y 75 respectivamente.\n",
    "\n",
    "**Deciles**: Son nueve valores que dividen un conjunto de datos en diez partes iguales. Cada decil representa el 10% de los datos.\n",
    "\n",
    "**Percentiles**: Son cien valores que dividen un conjunto de datos en cien partes iguales. Cada percentil representa el 1% de los datos.\n",
    "\n",
    "Para calcular los deciles y percentiles en Python también puedes usar la función `numpy.percentile()` con los percentiles correspondientes.\n"
   ]
  },
  {
   "cell_type": "code",
   "execution_count": 4,
   "metadata": {},
   "outputs": [
    {
     "name": "stdout",
     "output_type": "stream",
     "text": [
      "Tercer cuartil: 51.5\n",
      "Segundo cuartil: 39.5\n",
      "Cuarto decil: 35.6\n",
      "17mo percentil: 23.93\n"
     ]
    }
   ],
   "source": [
    "# Tercer cuartil\n",
    "print(f\"Tercer cuartil: {np.percentile(muestra, 75)}\") # Mostramos el tercer cuartil de la muestra.\n",
    "\n",
    "# Segundo cuartil\n",
    "print(f\"Segundo cuartil: {np.percentile(muestra, 50)}\") # Mostramos el segundo cuartil de la muestra.\n",
    "\n",
    "# Cuarto decil\n",
    "print(f\"Cuarto decil: {np.percentile(muestra, 40)}\") # Mostramos el cuarto decil de la muestra.\n",
    "\n",
    "# Decimoséptimo percentil\n",
    "print(f\"17mo percentil: {np.percentile(muestra, 17)}\") # Mostramos el decimoséptimo percentil de la muestra."
   ]
  },
  {
   "cell_type": "markdown",
   "metadata": {},
   "source": [
    "# Trabajando con dataset\n",
    "\n",
    "## Importar la biblioteca pandas\n",
    "Pandas es una biblioteca de Python que proporciona estructuras de datos y herramientas de análisis de datos. Para usarla, primero debes importarla:\n",
    "\n",
    "```python\n",
    "import pandas as pd\n",
    "```\n",
    "## Leer los datos\n",
    "Pandas puede leer datos en muchos formatos, incluyendo CSV, Excel y SQL. Por ejemplo:\n",
    "\n",
    "```python\n",
    "pd.read_excel('rutal/al/archivo.xls')\n",
    "```\n",
    "## Explorar los datos\n",
    "Puedes obtener una visión general de tus datos usando varias funciones de pandas:\n",
    "\n",
    "**df.head()**: Muestra las primeras filas del DataFrame.\n",
    "\n",
    "**df.info()**: Muestra un resumen conciso de tu DataFrame, incluyendo el número de entradas no nulas y los tipos de datos.\n",
    "\n",
    "**df.describe()**: Muestra estadísticas descriptivas de las columnas numéricas.\n",
    "\n",
    "## Manipular datos\n",
    "Pandas proporciona muchas funciones para manipular tus datos:\n",
    "\n",
    "**df.replace()**: Reemplaza los valores en una columna.\n",
    "\n",
    "```python\n",
    "df['columna'].replace({'valor_original': 'nuevo_valor'})\n",
    "```\n",
    "\n",
    "**df.astype()**: Cambia el tipo de datos de una columna.\n",
    "\n",
    "```python\n",
    "df['columna'].astype('tipo')\n",
    "```\n"
   ]
  }
 ],
 "metadata": {
  "kernelspec": {
   "display_name": "Python 3",
   "language": "python",
   "name": "python3"
  },
  "language_info": {
   "codemirror_mode": {
    "name": "ipython",
    "version": 3
   },
   "file_extension": ".py",
   "mimetype": "text/x-python",
   "name": "python",
   "nbconvert_exporter": "python",
   "pygments_lexer": "ipython3",
   "version": "3.11.5"
  }
 },
 "nbformat": 4,
 "nbformat_minor": 2
}
