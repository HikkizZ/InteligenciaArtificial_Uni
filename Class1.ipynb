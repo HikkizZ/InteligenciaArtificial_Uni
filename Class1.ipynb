{
 "cells": [
  {
   "cell_type": "markdown",
   "metadata": {},
   "source": [
    "# Medidas de Tendencia Central\n",
    "\n",
    "Las medidas de tendencia central son estadísticas que nos permiten resumir un conjunto de datos con un solo valor. Las más comunes son la media, la mediana, la varianza y la desviación estándar. Aquí te explico cada una:\n",
    "\n",
    "**Media (μ)**: Es la suma de todos los valores dividida por el número total de valores. Se calcula con la fórmula:\n",
    "\n",
    "$$\n",
    "\\mu = \\frac{\\Sigma x}{N}\n",
    "$$\n",
    "\n",
    "\n",
    "donde Σx es la suma de todos los valores y N es el número total de valores.\n",
    "\n",
    "**Mediana**: Es el valor que divide los datos en dos partes iguales, es decir, el 50% de los datos son menores que la mediana y el otro 50% son mayores. Para calcularla, se ordenan los datos de menor a mayor y se selecciona el valor del medio (o el promedio de los dos valores del medio si el número total de datos es par).\n",
    "\n",
    "**Varianza (σ²)**: Es una medida de dispersión que indica cuánto varían los datos respecto a su media. Se calcula con la fórmula:\n",
    "\n",
    "$$\n",
    "\\sigma^2 = \\frac{\\Sigma (x - \\mu)^2}{N}\n",
    "$$\n",
    "\n",
    "\n",
    "donde x son los valores individuales, μ es la media y N es el número total de valores.\n",
    "\n",
    "**Desviación estándar (σ)**: Es la raíz cuadrada de la varianza y proporciona una medida de dispersión que está en las mismas unidades que los datos. Se calcula con la fórmula:\n",
    "\n",
    "$$\n",
    "\\sigma = \\sqrt{\\sigma^2}\n",
    "$$\n",
    "\n",
    "\n",
    "donde σ² es la varianza.\n",
    "\n",
    "Para calcular estas medidas en Python puedes usar las funciones `numpy.mean()`, `numpy.median()`, `numpy.var()` y `numpy.std()`, respectivamente.\n"
   ]
  },
  {
   "cell_type": "code",
   "execution_count": 2,
   "metadata": {
    "tags": []
   },
   "outputs": [
    {
     "name": "stdout",
     "output_type": "stream",
     "text": [
      "[52, 21, 39, 55, 62, 35, 22, 49, 63, 42, 43, 18, 19, 23, 45, 31, 57, 59, 32, 27, 36, 34, 30, 40, 65, 50, 48, 24, 61, 37]\n"
     ]
    }
   ],
   "source": [
    "import random\n",
    "random.seed(29) # Establecemos la semilla a 29, para que los resultados sean siempre los mismos.\n",
    "edades = range(17, 66) # Creamos una lista con las edades de 17 a 65 años.\n",
    "muestra = random.sample(edades, 30) # Seleccionamos 30 edades de la lista anterior.\n",
    "print(muestra) # Mostramos la muestra."
   ]
  },
  {
   "cell_type": "code",
   "execution_count": 10,
   "metadata": {},
   "outputs": [
    {
     "name": "stdout",
     "output_type": "stream",
     "text": [
      "Media: 40.63\n",
      "Mediana: 39.5\n",
      "Varianza: 200.83\n",
      "Desviación estándar: 14.17\n",
      "Desviación estándar: 14.17\n"
     ]
    }
   ],
   "source": [
    "import numpy as np # Importamos numpy\n",
    "\n",
    "print(f\"Media: {np.mean(muestra):.2f}\") # Mostramos la media de la muestra con dos decimales.\n",
    "print(f\"Mediana: {np.median(muestra)}\") # Mostramos la mediana de la muestra.\n",
    "print(f\"Varianza: {np.var(muestra):.2f}\") # Mostramos la varianza de la muestra con dos decimales.\n",
    "print(f\"Desviación estándar: {np.std(muestra):.2f}\") # Mostramos la desviación estándar de la muestra con dos decimales.\n",
    "print(f\"Desviación estándar: {np.sqrt(np.var(muestra)):.2f}\") # Mostramos la desviación estándar de la muestra con dos decimales. Esta es la forma de calcularla sin usar la función np.std."
   ]
  },
  {
   "cell_type": "code",
   "execution_count": 8,
   "metadata": {},
   "outputs": [
    {
     "name": "stdout",
     "output_type": "stream",
     "text": [
      "Media: 40.63\n",
      "Mediana: 39.5\n",
      "Mediana agrupada: 39.5\n",
      "Varianza: 200.83\n"
     ]
    }
   ],
   "source": [
    "from statistics import mean, median, median_grouped, pvariance # Importamos las funciones de la librería statistics.\n",
    "\n",
    "# Media\n",
    "print(f\"Media: {mean(muestra):.2f}\") # Mostramos la media de la muestra con dos decimales.\n",
    "\n",
    "# Mediana\n",
    "print(f\"Mediana: {median(muestra)}\") # Mostramos la mediana de la muestra.\n",
    "\n",
    "# Mediana agrupada\n",
    "print(f\"Mediana agrupada: {median_grouped(muestra)}\") # Mostramos la mediana agrupada de la muestra.\n",
    "\n",
    "# Varianza\n",
    "print(f\"Varianza: {pvariance(muestra):.2f}\") # Mostramos la varianza de la muestra con dos decimales."
   ]
  },
  {
   "cell_type": "markdown",
   "metadata": {},
   "source": [
    "# Medidas de posición\n",
    "\n",
    "Las medidas de posición son estadísticas que nos permiten dividir un conjunto de datos en partes iguales. Las más comunes son los cuartiles, los deciles y los percentiles. Aquí te explico cada una:\n",
    "\n",
    "**Cuartiles**: Son tres valores que dividen un conjunto de datos en cuatro partes iguales. Cada cuartil representa el 25% de los datos.\n",
    "\n",
    "- **Primer cuartil (Q1)**: El 25% de los datos son menores o iguales a este valor.\n",
    "- **Segundo cuartil (Q2)**: También conocido como la mediana, el 50% de los datos son menores o iguales a este valor.\n",
    "- **Tercer cuartil (Q3)**: El 75% de los datos son menores o iguales a este valor.\n",
    "\n",
    "Para calcular los cuartiles en Python puedes usar la función `numpy.percentile()` con los percentiles 25, 50 y 75 respectivamente.\n",
    "\n",
    "**Deciles**: Son nueve valores que dividen un conjunto de datos en diez partes iguales. Cada decil representa el 10% de los datos.\n",
    "\n",
    "**Percentiles**: Son cien valores que dividen un conjunto de datos en cien partes iguales. Cada percentil representa el 1% de los datos.\n",
    "\n",
    "Para calcular los deciles y percentiles en Python también puedes usar la función `numpy.percentile()` con los percentiles correspondientes.\n"
   ]
  },
  {
   "cell_type": "code",
   "execution_count": 4,
   "metadata": {},
   "outputs": [
    {
     "name": "stdout",
     "output_type": "stream",
     "text": [
      "Tercer cuartil: 51.5\n",
      "Segundo cuartil: 39.5\n",
      "Cuarto decil: 35.6\n",
      "17mo percentil: 23.93\n"
     ]
    }
   ],
   "source": [
    "# Tercer cuartil\n",
    "print(f\"Tercer cuartil: {np.percentile(muestra, 75)}\") # Mostramos el tercer cuartil de la muestra.\n",
    "\n",
    "# Segundo cuartil\n",
    "print(f\"Segundo cuartil: {np.percentile(muestra, 50)}\") # Mostramos el segundo cuartil de la muestra.\n",
    "\n",
    "# Cuarto decil\n",
    "print(f\"Cuarto decil: {np.percentile(muestra, 40)}\") # Mostramos el cuarto decil de la muestra.\n",
    "\n",
    "# Decimoséptimo percentil\n",
    "print(f\"17mo percentil: {np.percentile(muestra, 17)}\") # Mostramos el decimoséptimo percentil de la muestra."
   ]
  },
  {
   "cell_type": "markdown",
   "metadata": {},
   "source": [
    "# Trabajando con dataset\n",
    "\n",
    "## Importar la biblioteca pandas\n",
    "Pandas es una biblioteca de Python que proporciona estructuras de datos y herramientas de análisis de datos. Para usarla, primero debes importarla:\n",
    "\n",
    "```python\n",
    "import pandas as pd\n",
    "```\n",
    "\n",
    "Recordar que se debe instalar pandas y el módulo para leer archivos excel. Esto se debe hacer desde la terminal cmd (Modo Admin).\n",
    "```\n",
    "pip install pandas\n",
    "pip install xlrd\n",
    "```\n",
    "\n",
    "## Leer los datos\n",
    "Pandas puede leer datos en muchos formatos, incluyendo CSV, Excel y SQL. Por ejemplo:\n",
    "\n",
    "```python\n",
    "pd.read_excel('rutal/al/archivo.xls')\n",
    "```\n",
    "## Explorar los datos\n",
    "Puedes obtener una visión general de tus datos usando varias funciones de pandas:\n",
    "\n",
    "**df.head()**: Muestra las primeras filas del DataFrame.\n",
    "\n",
    "**df.info()**: Muestra un resumen conciso de tu DataFrame, incluyendo el número de entradas no nulas y los tipos de datos.\n",
    "\n",
    "**df.describe()**: Muestra estadísticas descriptivas de las columnas numéricas.\n",
    "\n",
    "## Manipular datos\n",
    "Pandas proporciona muchas funciones para manipular tus datos:\n",
    "\n",
    "**df.replace()**: Reemplaza los valores en una columna.\n",
    "\n",
    "```python\n",
    "df['columna'].replace({'valor_original': 'nuevo_valor'})\n",
    "```\n",
    "\n",
    "**df.astype()**: Cambia el tipo de datos de una columna.\n",
    "\n",
    "```python\n",
    "df['columna'].astype('tipo')\n",
    "```\n"
   ]
  },
  {
   "cell_type": "code",
   "execution_count": 3,
   "metadata": {},
   "outputs": [],
   "source": [
    "import pandas as pd # Importamos pandas\n",
    "data = pd.read_excel(\"docs/nutrition_elderly.xls\") # Leemos el archivo excel."
   ]
  },
  {
   "cell_type": "code",
   "execution_count": 5,
   "metadata": {},
   "outputs": [
    {
     "name": "stdout",
     "output_type": "stream",
     "text": [
      "Cantidad de observaciones y características: (226, 13)\n"
     ]
    }
   ],
   "source": [
    "# Cantidad de observaciones y características\n",
    "print(f\"Cantidad de observaciones y características: {data.shape}\") # Mostramos la cantidad de observaciones (Filas) y características (Columnas)."
   ]
  },
  {
   "cell_type": "code",
   "execution_count": 7,
   "metadata": {},
   "outputs": [
    {
     "name": "stdout",
     "output_type": "stream",
     "text": [
      "     gender  situation  tea  coffee  height  weight  age  meat  fish  \\\n",
      "166       2          1    0       2     155      64   78     2     0   \n",
      "151       2          3    0       1     156      64   80     3     3   \n",
      "56        1          1    0       2     174      75   87     3     3   \n",
      "21        2          2    2       2     161      68   76     4     2   \n",
      "85        2          1    3       0     156      58   72     3     4   \n",
      "\n",
      "     raw_fruit  cooked_fruit_veg  chocol  fat  \n",
      "166          5                 3       0    3  \n",
      "151          5                 5       1    1  \n",
      "56           5                 5       5    1  \n",
      "21           5                 5       1    1  \n",
      "85           5                 5       0    5  \n"
     ]
    }
   ],
   "source": [
    "# Mostrar cinco observaciones aleatorias del conjunto de datos.add()\n",
    "print(data.sample(5)) # Mostramos cinco observaciones aleatorias del conjunto de datos."
   ]
  },
  {
   "cell_type": "markdown",
   "metadata": {},
   "source": [
    "# Variables\n",
    "\n",
    "### Existen 2 tipos de variables\n",
    "* Cualitativas\n",
    "* Cuantitativas\n",
    "\n",
    "### Las cuantitativas se dividen en:\n",
    "* Discretas\n",
    "* Continua"
   ]
  },
  {
   "cell_type": "code",
   "execution_count": 8,
   "metadata": {},
   "outputs": [
    {
     "name": "stdout",
     "output_type": "stream",
     "text": [
      "Index(['gender', 'situation', 'tea', 'coffee', 'height', 'weight', 'age',\n",
      "       'meat', 'fish', 'raw_fruit', 'cooked_fruit_veg', 'chocol', 'fat'],\n",
      "      dtype='object')\n"
     ]
    }
   ],
   "source": [
    "# Nombres de las columnas\n",
    "print(data.columns) # Mostramos los nombres de las columnas."
   ]
  },
  {
   "cell_type": "markdown",
   "metadata": {},
   "source": [
    "#### Cualitativas\n",
    "* Gender\n",
    "* Situation\n",
    "* Fat\n",
    "* Meat\n",
    "* Fish\n",
    "* Raw_fruit\n",
    "* Cooked_fruit_veg\n",
    "* Chocol\n",
    "\n",
    "#### Cuantitativa Discreta\n",
    "* Tea\n",
    "* Coffee\n",
    "\n",
    "#### Cuantitativa Continua\n",
    "* Height\n",
    "* Weigth\n",
    "* Age"
   ]
  },
  {
   "cell_type": "code",
   "execution_count": 9,
   "metadata": {},
   "outputs": [
    {
     "name": "stdout",
     "output_type": "stream",
     "text": [
      "<class 'pandas.core.frame.DataFrame'>\n",
      "RangeIndex: 226 entries, 0 to 225\n",
      "Data columns (total 13 columns):\n",
      " #   Column            Non-Null Count  Dtype\n",
      "---  ------            --------------  -----\n",
      " 0   gender            226 non-null    int64\n",
      " 1   situation         226 non-null    int64\n",
      " 2   tea               226 non-null    int64\n",
      " 3   coffee            226 non-null    int64\n",
      " 4   height            226 non-null    int64\n",
      " 5   weight            226 non-null    int64\n",
      " 6   age               226 non-null    int64\n",
      " 7   meat              226 non-null    int64\n",
      " 8   fish              226 non-null    int64\n",
      " 9   raw_fruit         226 non-null    int64\n",
      " 10  cooked_fruit_veg  226 non-null    int64\n",
      " 11  chocol            226 non-null    int64\n",
      " 12  fat               226 non-null    int64\n",
      "dtypes: int64(13)\n",
      "memory usage: 23.1 KB\n",
      "None\n"
     ]
    }
   ],
   "source": [
    "# Información de las columnas disponibles\n",
    "print(data.info()) # Mostramos información de las columnas disponibles."
   ]
  },
  {
   "cell_type": "code",
   "execution_count": 11,
   "metadata": {},
   "outputs": [
    {
     "data": {
      "text/plain": [
       "array([6, 4, 2, 3, 8, 1, 5, 7], dtype=int64)"
      ]
     },
     "execution_count": 11,
     "metadata": {},
     "output_type": "execute_result"
    }
   ],
   "source": [
    "# Obtener valores únicos de la columna\n",
    "data.fat.unique() # Mostramos los valores únicos de la columna fat."
   ]
  },
  {
   "cell_type": "code",
   "execution_count": 12,
   "metadata": {},
   "outputs": [
    {
     "data": {
      "text/plain": [
       "array([2, 1], dtype=int64)"
      ]
     },
     "execution_count": 12,
     "metadata": {},
     "output_type": "execute_result"
    }
   ],
   "source": [
    "# Obtener valores únicos de la columna\n",
    "data.gender.unique() # Mostramos los valores únicos de la columna gender."
   ]
  },
  {
   "cell_type": "markdown",
   "metadata": {},
   "source": [
    "## AnáLisis de Columnas"
   ]
  },
  {
   "cell_type": "code",
   "execution_count": 15,
   "metadata": {},
   "outputs": [
    {
     "data": {
      "text/plain": [
       "count    226.000000\n",
       "mean      74.477876\n",
       "std        6.005327\n",
       "min       65.000000\n",
       "25%       70.000000\n",
       "50%       74.000000\n",
       "75%       78.000000\n",
       "max       91.000000\n",
       "Name: age, dtype: float64"
      ]
     },
     "execution_count": 15,
     "metadata": {},
     "output_type": "execute_result"
    }
   ],
   "source": [
    "# Cálculo de las medidas de tendencia central de la columna age\n",
    "data['age'].describe() # Mostramos las medidas de tendencia central de la columna age."
   ]
  },
  {
   "cell_type": "code",
   "execution_count": 16,
   "metadata": {},
   "outputs": [
    {
     "data": {
      "text/plain": [
       "count    226.000000\n",
       "mean       1.623894\n",
       "std        0.485482\n",
       "min        1.000000\n",
       "25%        1.000000\n",
       "50%        2.000000\n",
       "75%        2.000000\n",
       "max        2.000000\n",
       "Name: gender, dtype: float64"
      ]
     },
     "execution_count": 16,
     "metadata": {},
     "output_type": "execute_result"
    }
   ],
   "source": [
    "# Calculos de las medidas de tendencia central de la columna gender\n",
    "data['gender'].describe() # Mostramos las medidas de tendencia central de la columna gender."
   ]
  },
  {
   "cell_type": "markdown",
   "metadata": {},
   "source": [
    "**Observacion**\n",
    "\n",
    "---\n",
    "\n",
    "Lo anterior no tiene mucho sentido porque la variable género está codificada, porque la variable es cualitativa."
   ]
  },
  {
   "cell_type": "code",
   "execution_count": 17,
   "metadata": {},
   "outputs": [],
   "source": [
    "# Agregamos descripción\n",
    "dict_gender = {1:'Male', 2: 'Female'} # Ocupamos un diccionario para la \"codificación\"\n",
    "data['gender_c'] = data['gender'].replace(dict_gender).astype(\"category\")"
   ]
  },
  {
   "cell_type": "code",
   "execution_count": 18,
   "metadata": {},
   "outputs": [
    {
     "data": {
      "text/plain": [
       "['Female', 'Male']\n",
       "Categories (2, object): ['Female', 'Male']"
      ]
     },
     "execution_count": 18,
     "metadata": {},
     "output_type": "execute_result"
    }
   ],
   "source": [
    "# Mostramos la columna recién creada\n",
    "data.gender_c.unique()"
   ]
  },
  {
   "cell_type": "code",
   "execution_count": 19,
   "metadata": {},
   "outputs": [
    {
     "data": {
      "text/plain": [
       "count        226\n",
       "unique         2\n",
       "top       Female\n",
       "freq         141\n",
       "Name: gender_c, dtype: object"
      ]
     },
     "execution_count": 19,
     "metadata": {},
     "output_type": "execute_result"
    }
   ],
   "source": [
    "# Ahora podemos utlizar la función describe\n",
    "data['gender_c'].describe()"
   ]
  },
  {
   "cell_type": "markdown",
   "metadata": {},
   "source": [
    "Al utilizar la línea de código <code>data['gender_c'].describe()</code>, estás solicitando un resumen estadístico de la columna <code>‘gender_c’</code> en tu DataFrame data.\n",
    "\n",
    "Dado que <code>‘gender_c’</code> es una variable categórica (es decir, no numérica), el método <code>describe()</code> proporcionará un resumen ligeramente diferente al que proporcionaría para una variable numérica. En lugar de calcular medidas como la media y la desviación estándar, <code>describe()</code> proporcionará la siguiente información para una variable categórica:\n",
    "\n",
    "* **count**: el número total de entradas no nulas en la columna.\n",
    "* **unique**: el número de categorías distintas en la columna.\n",
    "* **top**: la categoría que aparece con más frecuencia.\n",
    "* **freq**: la frecuencia de la categoría más común.\n",
    "Por lo tanto, este método te dará una idea rápida de la distribución de las categorías en la columna <code>‘gender_c’</code>."
   ]
  },
  {
   "cell_type": "code",
   "execution_count": 20,
   "metadata": {},
   "outputs": [
    {
     "data": {
      "text/plain": [
       "gender_c\n",
       "Female    141\n",
       "Male       85\n",
       "Name: count, dtype: int64"
      ]
     },
     "execution_count": 20,
     "metadata": {},
     "output_type": "execute_result"
    }
   ],
   "source": [
    "# Construimos una tabla simple de frecuencias relativas\n",
    "data['gender_c'].value_counts()"
   ]
  },
  {
   "cell_type": "code",
   "execution_count": 22,
   "metadata": {},
   "outputs": [
    {
     "data": {
      "text/plain": [
       "(226, 14)"
      ]
     },
     "execution_count": 22,
     "metadata": {},
     "output_type": "execute_result"
    }
   ],
   "source": [
    "# Cantidad de Filas y Columnas\n",
    "data.shape"
   ]
  }
 ],
 "metadata": {
  "kernelspec": {
   "display_name": "Python 3",
   "language": "python",
   "name": "python3"
  },
  "language_info": {
   "codemirror_mode": {
    "name": "ipython",
    "version": 3
   },
   "file_extension": ".py",
   "mimetype": "text/x-python",
   "name": "python",
   "nbconvert_exporter": "python",
   "pygments_lexer": "ipython3",
   "version": "3.11.5"
  }
 },
 "nbformat": 4,
 "nbformat_minor": 2
}
